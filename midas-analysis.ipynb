{
 "cells": [
  {
   "cell_type": "code",
   "execution_count": 2,
   "metadata": {
    "jupyter": {
     "source_hidden": true
    }
   },
   "outputs": [],
   "source": [
    "import zipfile, struct, warnings, requests, struct\n",
    "from io import StringIO, BytesIO\n",
    "\n",
    "import numpy as np\n",
    "import pandas as pd\n",
    "import matplotlib\n",
    "import matplotlib.pyplot as plt\n",
    "\n",
    "import astropy\n",
    "from astropy.io.votable import parse_single_table\n",
    "from astroquery.utils.tap.core import TapPlus\n",
    "import pvl\n",
    "\n",
    "# from plotly.offline import iplot, init_notebook_mode\n",
    "import plotly.graph_objs as go\n",
    "# import plotly\n",
    "# init_notebook_mode()\n",
    "\n",
    "from IPython.display import Image, display\n",
    "\n",
    "%matplotlib inline\n",
    "warnings.simplefilter('ignore')"
   ]
  },
  {
   "cell_type": "markdown",
   "metadata": {},
   "source": [
    "# MIDAS data analysis with the PSA and EPN-TAP\n",
    "\n",
    "## Aims\n",
    "\n",
    "The aim of this notebook is to demonstrate how to find and use data from the MIDAS Atomic Force Microscope, which flew onboard the Rosetta orbiter. MIDAS collected dust emitted from comet 67P on small targets (called facets), and then scanned them in high resolution using an AFM. This type of microscope doesn't work with light, but scans a very sharp tip over the surface of the particle, building up a 3D picture.\n",
    "\n",
    "## Methods\n",
    "\n",
    "Data in ESA's Planetary Science Archive (PSA) can be access in various ways - FTP, web interface, and by machine access. Here we will use the last of these - in particular EPN-TAP. We will introduce this first, since it allows the archive to be queried from a notebook such as this (or a script).\n",
    "\n",
    "There are several ways you can explore the MIDAS dataset, depending on what kind of question you are trying to answer:\n",
    "- browse through the images\n",
    "- look for dust collected at a given time\n",
    "  - using the exposure history\n",
    "- use the particle catalogue to search for particles by:\n",
    "  - size\n",
    "  - target\n",
    "  - etc.\n",
    "\n",
    "To demonstrate the workflow, we will concentrate on the example of a paper published about a dust outburst in February 2016 - Grün, E. et al. The 19 Feb. 2016 Outburst of Comet 67P/CG: An ESA Rosetta Multi-Instrument Study. Mon. Not. R. Astron. Soc. 462, S220–S234 (2016)."
   ]
  },
  {
   "cell_type": "markdown",
   "metadata": {},
   "source": [
    "## Intro to Jupyter\n",
    "\n",
    "If you've never used a Jupyter Notebook before, here is a quick intro! Each notoebook mixes text, image and code - in this case in Python. Code cells have a number before them. The notebook has an edit mode and an \"action\" mode. Hit return when a cell is highlighted and you'll enter edit mode. Press escape to leave it. When you want to execute a cell, use \"shift-escape\". The menu at theh top gives you more control. If you get really lost, you can restart the kernel - this will clear and value of all variables etc. You can then work your way down from the top of the notebook, following the examples.\n",
    "\n",
    "There are also some \"hidden\" cells - if you see three dots (...) on a line, this means that the cell content has been hidden. In this notebook we use this to hide away some of the code used; if you're interested just click the dots to show the cell!"
   ]
  },
  {
   "cell_type": "markdown",
   "metadata": {},
   "source": [
    "## Intro to EPN-TAP\n",
    "\n",
    "EPN-TAP is the Europlanet extension of the Table Access Protocol (TAP) commonly used to query data in astronomical archives. The PSA supports EPN-TAP, although with a limited number of fields populated - this will improve, at least for geometry, in the coming months. \n",
    "\n",
    "First we have to make a connection to the server:"
   ]
  },
  {
   "cell_type": "code",
   "execution_count": 3,
   "metadata": {},
   "outputs": [
    {
     "name": "stdout",
     "output_type": "stream",
     "text": [
      "Created TAP+ (v1.0.1) - Connection:\n",
      "\tHost: archives.esac.esa.int\n",
      "\tUse HTTPS: True\n",
      "\tPort: 443\n",
      "\tSSL Port: 443\n"
     ]
    }
   ],
   "source": [
    "tap_url = 'https://archives.esac.esa.int/psa/epn-tap/tap/'\n",
    "psa = TapPlus(url=tap_url)"
   ]
  },
  {
   "cell_type": "markdown",
   "metadata": {},
   "source": [
    "EPN-TAP uses a SQL-like language to query the database. A simple first query is to count the number of rows (=number of products):"
   ]
  },
  {
   "cell_type": "code",
   "execution_count": 4,
   "metadata": {},
   "outputs": [
    {
     "name": "stdout",
     "output_type": "stream",
     "text": [
      "Number of products in the PSA: 8859642\n"
     ]
    }
   ],
   "source": [
    "query = 'SELECT COUNT(1) from epn_core'\n",
    "result = psa.launch_job(query).get_data()\n",
    "print('Number of products in the PSA: {:d}'.format(result['count'][0]))"
   ]
  },
  {
   "cell_type": "markdown",
   "metadata": {},
   "source": [
    "Equally there is an column giving the estimated size of each product, which we can sum to get the size of the archive. This is only the size of the latest product for those (PDS4) products that have multiple versions:"
   ]
  },
  {
   "cell_type": "code",
   "execution_count": 5,
   "metadata": {},
   "outputs": [
    {
     "name": "stdout",
     "output_type": "stream",
     "text": [
      "Total size of PSA (GB): 51.059374\n"
     ]
    }
   ],
   "source": [
    "query = 'SELECT SUM(access_estsize) from epn_core' \n",
    "result = psa.launch_job(query).get_data() # in kbyte\n",
    "print('Total size of PSA (GB): {:f}'.format(result['sum'][0]/1024./1024./1024.))"
   ]
  },
  {
   "cell_type": "markdown",
   "metadata": {},
   "source": [
    "You can also query selected columns, and order them - for example here we list the top 10 largest products:"
   ]
  },
  {
   "cell_type": "code",
   "execution_count": 6,
   "metadata": {},
   "outputs": [
    {
     "data": {
      "text/html": [
       "<i>Table masked=True length=10</i>\n",
       "<table id=\"table140303296264960\" class=\"table-striped table-bordered table-condensed\">\n",
       "<thead><tr><th>granule_uid</th><th>access_estsize</th></tr></thead>\n",
       "<thead><tr><th>object</th><th>int32</th></tr></thead>\n",
       "<tr><td>urn:esa:psa:em16_tgo_acs:data_raw:acs_raw_sc_mir_20160414t023000-20160414t025700-c-0-6</td><td>165414637</td></tr>\n",
       "<tr><td>urn:esa:psa:em16_tgo_acs:data_raw:acs_raw_sc_mir_20160414t033000-20160414t035700-c-0-7</td><td>165233465</td></tr>\n",
       "<tr><td>urn:esa:psa:em16_tgo_acs:data_raw:acs_raw_sc_tir_20161126t015500-20161126t024700-10-9</td><td>125029063</td></tr>\n",
       "<tr><td>urn:esa:psa:em16_tgo_acs:data_raw:acs_raw_sc_tir_20161126t031300-20161126t040500-10-10</td><td>124966100</td></tr>\n",
       "<tr><td>urn:esa:psa:em16_tgo_acs:data_raw:acs_raw_sc_tir_20170305t233321-20170306t065000-50-3</td><td>102403605</td></tr>\n",
       "<tr><td>urn:esa:psa:em16_tgo_acs:data_raw:acs_raw_sc_tir_20170301t230000-20170302t020000-46-2</td><td>95586863</td></tr>\n",
       "<tr><td>urn:esa:psa:em16_tgo_acs:data_raw:acs_raw_sc_tir_20160614t005100-20160614t014200-0-1</td><td>84912674</td></tr>\n",
       "<tr><td>urn:esa:psa:em16_tgo_acs:data_raw:acs_raw_sc_tir_20161122t145745-20161122t192620-9-3</td><td>67186534</td></tr>\n",
       "<tr><td>urn:esa:psa:em16_tgo_acs:data_raw:acs_raw_sc_tir_20170305t192400-20170305t233311-50-2</td><td>62398895</td></tr>\n",
       "<tr><td>urn:esa:psa:em16_tgo_acs:data_raw:acs_raw_sc_mir_20161125t013000-20161125t020000-c-10-1</td><td>56533849</td></tr>\n",
       "</table>"
      ],
      "text/plain": [
       "<Table masked=True length=10>\n",
       "                                      granule_uid                                       ...\n",
       "                                         object                                         ...\n",
       "--------------------------------------------------------------------------------------- ...\n",
       " urn:esa:psa:em16_tgo_acs:data_raw:acs_raw_sc_mir_20160414t023000-20160414t025700-c-0-6 ...\n",
       " urn:esa:psa:em16_tgo_acs:data_raw:acs_raw_sc_mir_20160414t033000-20160414t035700-c-0-7 ...\n",
       "  urn:esa:psa:em16_tgo_acs:data_raw:acs_raw_sc_tir_20161126t015500-20161126t024700-10-9 ...\n",
       " urn:esa:psa:em16_tgo_acs:data_raw:acs_raw_sc_tir_20161126t031300-20161126t040500-10-10 ...\n",
       "  urn:esa:psa:em16_tgo_acs:data_raw:acs_raw_sc_tir_20170305t233321-20170306t065000-50-3 ...\n",
       "  urn:esa:psa:em16_tgo_acs:data_raw:acs_raw_sc_tir_20170301t230000-20170302t020000-46-2 ...\n",
       "   urn:esa:psa:em16_tgo_acs:data_raw:acs_raw_sc_tir_20160614t005100-20160614t014200-0-1 ...\n",
       "   urn:esa:psa:em16_tgo_acs:data_raw:acs_raw_sc_tir_20161122t145745-20161122t192620-9-3 ...\n",
       "  urn:esa:psa:em16_tgo_acs:data_raw:acs_raw_sc_tir_20170305t192400-20170305t233311-50-2 ...\n",
       "urn:esa:psa:em16_tgo_acs:data_raw:acs_raw_sc_mir_20161125t013000-20161125t020000-c-10-1 ..."
      ]
     },
     "execution_count": 6,
     "metadata": {},
     "output_type": "execute_result"
    }
   ],
   "source": [
    "query = 'SELECT TOP 10 granule_uid, access_estsize from epn_core WHERE access_estsize IS NOT NULL ORDER BY access_estsize DESC'\n",
    "result = psa.launch_job(query).get_data()\n",
    "result"
   ]
  },
  {
   "cell_type": "markdown",
   "metadata": {
    "slideshow": {
     "slide_type": "slide"
    }
   },
   "source": [
    "# Intro to MIDAS data\n",
    "\n",
    "- Dust particles were collected by MIDAS during passive exposures\n",
    "  - a given target was exposed - you can use the \"Target History\" (TGH) files to explore this\n",
    "\n",
    "- MIDAS data are archived as 2D height fields\n",
    "  - i.e. a 2D array of values, each representing the height of the particle at that position\n",
    "  - meta-data describe the pixel spacing in X and Y\n",
    "  - and the conversion of the integer height data to real units\n",
    "  - these are stored in a standard AFM format called BCR\n",
    "  \n",
    "- MIDAS stored data from different \"channels\" representing different modes or types of data\n",
    "  - ZS data is the main product and shows topography data\n",
    "  - PH is phase data and relates to the elastic properties of the target\n",
    "  - other channels give mainly diagnostic information"
   ]
  },
  {
   "cell_type": "markdown",
   "metadata": {},
   "source": [
    "## Query all MIDAS data at  comet 67P\n",
    "\n",
    "To demonstrate accessing MIDAS data, we first make a simple query for all data from MIDAS taken at comet 67P:"
   ]
  },
  {
   "cell_type": "code",
   "execution_count": 7,
   "metadata": {},
   "outputs": [
    {
     "name": "stdout",
     "output_type": "stream",
     "text": [
      "<Table masked=True length=2000>\n",
      "           name             dtype  unit format        description         n_bad\n",
      "-------------------------- ------- ---- ------ -------------------------- -----\n",
      "            access_estsize   int32                         access_estsize     0\n",
      "             access_format  object                          access_format     0\n",
      "                access_url  object                             access_url     0\n",
      "                     c1max float64  deg {!r:>}                      c1max  2000\n",
      "                     c1min float64  deg {!r:>}                      c1min  2000\n",
      "              c1_resol_max float64  deg {!r:>}               c1_resol_max  2000\n",
      "              c1_resol_min float64  deg {!r:>}               c1_resol_min  2000\n",
      "                     c2max float64  deg {!r:>}                      c2max  2000\n",
      "                     c2min float64  deg {!r:>}                      c2min  2000\n",
      "              c2_resol_max float64  deg {!r:>}               c2_resol_max  2000\n",
      "              c2_resol_min float64  deg {!r:>}               c2_resol_min  2000\n",
      "                     c3max float64  deg {!r:>}                      c3max  2000\n",
      "                     c3min float64  deg {!r:>}                      c3min  2000\n",
      "              c3_resol_max float64  deg {!r:>}               c3_resol_max  2000\n",
      "              c3_resol_min float64  deg {!r:>}               c3_resol_min  2000\n",
      "             creation_date  object                          creation_date     0\n",
      "          dataproduct_type  object                       dataproduct_type     0\n",
      "             emergence_max float64  deg {!r:>}              emergence_max  2000\n",
      "             emergence_min float64  deg {!r:>}              emergence_min  2000\n",
      "               granule_gid  object                            granule_gid     0\n",
      "               granule_uid  object                            granule_uid     0\n",
      "             incidence_max float64  deg {!r:>}              incidence_max  2000\n",
      "             incidence_min float64  deg {!r:>}              incidence_min  2000\n",
      "      instrument_host_name  object                   instrument_host_name     0\n",
      "           instrument_name  object                        instrument_name     0\n",
      "          measurement_type  object                       measurement_type     0\n",
      "         modification_date  object                      modification_date     0\n",
      "                    obs_id  object                                 obs_id     0\n",
      "                 phase_max float64  deg {!r:>}                  phase_max  2000\n",
      "                 phase_min float64  deg {!r:>}                  phase_min  2000\n",
      "          processing_level   int32                       processing_level     0\n",
      "              release_date  object                           release_date     0\n",
      "             service_title  object                          service_title     0\n",
      "        spatial_frame_type  object                     spatial_frame_type     0\n",
      "        spectral_range_max float64   Hz {!r:>}         spectral_range_max  2000\n",
      "        spectral_range_min float64   Hz {!r:>}         spectral_range_min  2000\n",
      "   spectral_resolution_max float64   Hz {!r:>}    spectral_resolution_max  2000\n",
      "   spectral_resolution_min float64   Hz {!r:>}    spectral_resolution_min  2000\n",
      "spectral_sampling_step_max float64   Hz {!r:>} spectral_sampling_step_max  2000\n",
      "spectral_sampling_step_min float64   Hz {!r:>} spectral_sampling_step_min  2000\n",
      "                  s_region  object                               s_region     0\n",
      "              target_class  object                           target_class     0\n",
      "               target_name  object                            target_name     0\n",
      "             thumbnail_url  object                          thumbnail_url     0\n",
      "              time_exp_max float64    s {!r:>}               time_exp_max  2000\n",
      "              time_exp_min float64    s {!r:>}               time_exp_min  2000\n",
      "                  time_max float64    d {!r:>}                   time_max     0\n",
      "                  time_min float64    d {!r:>}                   time_min     0\n",
      "    time_sampling_step_max float64    s {!r:>}     time_sampling_step_max  2000\n",
      "    time_sampling_step_min float64    s {!r:>}     time_sampling_step_min  2000\n"
     ]
    }
   ],
   "source": [
    "query = \"SELECT * FROM epn_core WHERE target_name='67P' AND instrument_name='MIDAS'\"\n",
    "data = psa.launch_job(query).get_data()\n",
    "data.info()"
   ]
  },
  {
   "cell_type": "markdown",
   "metadata": {},
   "source": [
    "The 2k limit on products here is the limit in AstroQuery for synchronous queries - to get more products we could switch to an asynchronous query... The \"n_bad\" column tells us that many of the fields do not contain useful information - this is because these data are either not available in the PSA, or are not applicable to this instrument ype.\n",
    "\n",
    "Actually I usually work with pandas, so let's get this into pandas and tidy it up a bit - removing these \"bad\" fields. Since we do this a lot, we'll define a quick function (tap_to_pandas).\n",
    "\n",
    "This is an example of one of those hidden cells - you still have to execute it to define the function, but you don't see it. Click the dots to reveal if you like!"
   ]
  },
  {
   "cell_type": "code",
   "execution_count": 9,
   "metadata": {
    "jupyter": {
     "source_hidden": true
    }
   },
   "outputs": [],
   "source": [
    "def tap_to_pandas(query, tap_handle, remove_nans=True):\n",
    "    \"\"\"Execute an EPN-TAP query using the given tap_handle and convert to a \n",
    "    pandas dataframe, handling messy utf-8 decoding\"\"\"\n",
    "\n",
    "    data = tap_handle.launch_job(query).get_data().to_pandas()\n",
    "    if len(data)==0:\n",
    "        return None\n",
    "    \n",
    "    if remove_nans:\n",
    "        data.dropna(axis=1, how='all', inplace=True)\n",
    "    \n",
    "    str_df = data.select_dtypes([np.object])\n",
    "    str_df = str_df.stack().str.decode('utf-8').unstack()\n",
    "    for col in str_df:\n",
    "        data[col] = str_df[col]\n",
    "        \n",
    "    return data"
   ]
  },
  {
   "cell_type": "code",
   "execution_count": 154,
   "metadata": {},
   "outputs": [
    {
     "data": {
      "text/plain": [
       "access_estsize                                                      27071\n",
       "access_format                                       application/x-pds-zip\n",
       "access_url              https://archives.esac.esa.int/psa/pdap/downloa...\n",
       "creation_date                                   2019-04-07T14:25:26.19741\n",
       "dataproduct_type                                                       ci\n",
       "granule_gid                           RO-C-MIDAS-3-EXT3-SAMPLES-V3.0:DATA\n",
       "granule_uid             RO-C-MIDAS-3-EXT3-SAMPLES-V3.0:DATA:IMG_162700...\n",
       "instrument_host_name                                              Rosetta\n",
       "instrument_name                                                     MIDAS\n",
       "measurement_type                                                         \n",
       "modification_date                               2019-04-07T14:25:26.19741\n",
       "obs_id                  RO-C-MIDAS-3-EXT3-SAMPLES-V3.0:DATA:IMG_162700...\n",
       "processing_level                                                        5\n",
       "release_date                                        2019-03-15T00:00:00.0\n",
       "service_title                                                         psa\n",
       "spatial_frame_type                                                   none\n",
       "s_region                                                                 \n",
       "target_class                                                        comet\n",
       "target_name                                                           67P\n",
       "thumbnail_url           https://archives.esac.esa.int/psa/pdap/fileacc...\n",
       "time_max                                                      2.45766e+06\n",
       "time_min                                                      2.45766e+06\n",
       "Name: 0, dtype: object"
      ]
     },
     "execution_count": 154,
     "metadata": {},
     "output_type": "execute_result"
    }
   ],
   "source": [
    "data = tap_to_pandas(query, psa)\n",
    "data.iloc[0]"
   ]
  },
  {
   "cell_type": "markdown",
   "metadata": {},
   "source": [
    "From the paper: \"During the outburst event MIDAS was exposing target 13 as part of a 3-d exposure (2016- 02-16 23:25:25 until 2016-02-20 05:55:19)\" The list of exposure is catalogued in target history (TGH) files. These are cumulative, and there is one per possible target.\n",
    "\n",
    "MIDAS had 64 targets (01-64) so we just need to find the last version of each one. To do this we will query for all data from MIDAS, filter by those with a product ID that starts TGH and ends with nn (target number), order by the end time and pick the top hit (the final target history):"
   ]
  },
  {
   "cell_type": "code",
   "execution_count": 11,
   "metadata": {},
   "outputs": [],
   "source": [
    "tgh_files = []\n",
    "for target in np.arange(1,65):\n",
    "    query = \"SELECT TOP 1 * FROM epn_core WHERE instrument_name='MIDAS' AND granule_uid LIKE '%TGH_%_{:02d}' ORDER BY time_max DESC\".format(target)\n",
    "    data = tap_to_pandas(query, psa)\n",
    "    if data is None:\n",
    "        continue\n",
    "    tgh_files.append(data.iloc[0])\n",
    "tgh = pd.DataFrame(tgh_files)"
   ]
  },
  {
   "cell_type": "markdown",
   "metadata": {},
   "source": [
    "We will add a new column containing tha target number (last part of the filename, as we used to select above):"
   ]
  },
  {
   "cell_type": "code",
   "execution_count": 12,
   "metadata": {},
   "outputs": [],
   "source": [
    "tgh['target'] = tgh.granule_uid.apply( lambda x: int(x.split('_')[-1]))"
   ]
  },
  {
   "cell_type": "code",
   "execution_count": 13,
   "metadata": {},
   "outputs": [
    {
     "data": {
      "text/plain": [
       "31"
      ]
     },
     "execution_count": 13,
     "metadata": {},
     "output_type": "execute_result"
    }
   ],
   "source": [
    "len(tgh)"
   ]
  },
  {
   "cell_type": "markdown",
   "metadata": {},
   "source": [
    "Although MIDAS had 61 scientific targets (and 3 calibration), only 31 were used (either for exposure or scanning). \n",
    "\n",
    "Now we know which, we'll grab the target history files and make a dataframe will all this data.... If you were doing this the \"old fashioned\" way, you would find the last MIDAS dataset (EXT3) and grab the TGH* files in the DATA folder.\n",
    "\n",
    "In this case EPN-TAP defines an \"access_url\" which can be used to download a ZIP containng the data product, its label (a text file describing the product), and any linked documentation. We could download the files to disk and open them, but it's just as easy to stream the ZIP, list the files, and open the relevant ones. For this we define a small function \"get_lbl_prod\" which takes a zip file and returns the names of the product file and label."
   ]
  },
  {
   "cell_type": "code",
   "execution_count": 14,
   "metadata": {},
   "outputs": [],
   "source": [
    "def get_lbl_prod(zip):\n",
    "    \"\"\"Accepts a zip object and returns the label and data product names from the DATA directory\"\"\"\n",
    "\n",
    "    for filename in zip.namelist():\n",
    "        if filename == 'inventory.txt': \n",
    "            continue\n",
    "        elif (filename.endswith('.LBL')) and (filename.split('/')[1]=='DATA'):\n",
    "            label_file = filename\n",
    "        elif (not filename.endswith('.LBL')) and (filename.split('/')[1]=='DATA'):\n",
    "            data_file = filename\n",
    "    \n",
    "    return label_file, data_file"
   ]
  },
  {
   "cell_type": "code",
   "execution_count": 16,
   "metadata": {},
   "outputs": [
    {
     "name": "stdout",
     "output_type": "stream",
     "text": [
      "Processing target 1\n",
      "Processing target 2\n",
      "Processing target 3\n",
      "Processing target 4\n",
      "Processing target 5\n",
      "Processing target 6\n",
      "Processing target 7\n",
      "Processing target 8\n",
      "Processing target 9\n",
      "Processing target 10\n",
      "Processing target 11\n",
      "Processing target 12\n",
      "Processing target 13\n",
      "Processing target 14\n",
      "Processing target 15\n",
      "Processing target 16\n",
      "Processing target 17\n",
      "Processing target 18\n",
      "Processing target 19\n",
      "Processing target 20\n",
      "Processing target 21\n",
      "Processing target 22\n",
      "Processing target 23\n",
      "Processing target 24\n",
      "Processing target 25\n",
      "Processing target 33\n",
      "Processing target 34\n",
      "Processing target 35\n",
      "Processing target 36\n",
      "Processing target 37\n",
      "Processing target 44\n"
     ]
    }
   ],
   "source": [
    "tgh_cols = ['start_obt', 'start_utc', 'stop_obt', 'stop_utc', 'event', 'tip']\n",
    "history_cols = tgh_cols + ['target']\n",
    "\n",
    "history = pd.DataFrame([], columns=history_cols)\n",
    "for idx, target in tgh.iterrows():\n",
    "    print('Processing target %d' % target.target)\n",
    "    r = requests.get(url=target.access_url)\n",
    "    zip = zipfile.ZipFile(BytesIO(r.content))\n",
    "    label_file, data_file = get_lbl_prod(zip)\n",
    "    temp = pd.read_table(zip.open(data_file), sep=',', delim_whitespace=False, header=None, names=tgh_cols)\n",
    "    temp['target'] = target.target\n",
    "    history = history.append(temp)\n",
    "    \n",
    "history.start_utc = pd.to_datetime(history.start_utc)\n",
    "history.stop_utc = pd.to_datetime(history.stop_utc)\n",
    "history.sort_values(by='start_utc', inplace=True)\n",
    "history = history.set_index(np.arange(len(history)))"
   ]
  },
  {
   "cell_type": "code",
   "execution_count": 88,
   "metadata": {},
   "outputs": [
    {
     "data": {
      "text/plain": [
       "1311"
      ]
     },
     "execution_count": 88,
     "metadata": {},
     "output_type": "execute_result"
    }
   ],
   "source": [
    "len(history)"
   ]
  },
  {
   "cell_type": "code",
   "execution_count": 89,
   "metadata": {},
   "outputs": [
    {
     "data": {
      "text/plain": [
       "array(['EXPOSURE', 'SCANNING'], dtype=object)"
      ]
     },
     "execution_count": 89,
     "metadata": {},
     "output_type": "execute_result"
    }
   ],
   "source": [
    "history.event.unique()"
   ]
  },
  {
   "cell_type": "markdown",
   "metadata": {},
   "source": [
    "OK, so only two types of events are described for each target - exposure or scanning. For convenience let's get a list of the exposures only, and also calculated their duration:"
   ]
  },
  {
   "cell_type": "code",
   "execution_count": 90,
   "metadata": {},
   "outputs": [
    {
     "data": {
      "text/plain": [
       "178"
      ]
     },
     "execution_count": 90,
     "metadata": {},
     "output_type": "execute_result"
    }
   ],
   "source": [
    "exposures = history[history.event=='EXPOSURE']\n",
    "exposures['duration'] = exposures.stop_utc - exposures.start_utc\n",
    "len(exposures)"
   ]
  },
  {
   "cell_type": "markdown",
   "metadata": {},
   "source": [
    "Now we are going to look for exposures during an outburst. Exposures were often for days, or even weeks, so we'll examine a window of one week either side of the outburst date:"
   ]
  },
  {
   "cell_type": "code",
   "execution_count": 91,
   "metadata": {},
   "outputs": [],
   "source": [
    "outburst_day_start = pd.Timestamp('2016-02-19 00:00:00')\n",
    "outburst_day_stop = pd.Timestamp('2016-02-19 23:59:59')\n",
    "\n",
    "# add a one-week delta-time\n",
    "search_start = outburst_day_start - pd.Timedelta(weeks=1)\n",
    "search_stop = outburst_day_stop + pd.Timedelta(weeks=1)"
   ]
  },
  {
   "cell_type": "code",
   "execution_count": 92,
   "metadata": {},
   "outputs": [
    {
     "data": {
      "text/html": [
       "<div>\n",
       "<style scoped>\n",
       "    .dataframe tbody tr th:only-of-type {\n",
       "        vertical-align: middle;\n",
       "    }\n",
       "\n",
       "    .dataframe tbody tr th {\n",
       "        vertical-align: top;\n",
       "    }\n",
       "\n",
       "    .dataframe thead th {\n",
       "        text-align: right;\n",
       "    }\n",
       "</style>\n",
       "<table border=\"1\" class=\"dataframe\">\n",
       "  <thead>\n",
       "    <tr style=\"text-align: right;\">\n",
       "      <th></th>\n",
       "      <th>start_obt</th>\n",
       "      <th>start_utc</th>\n",
       "      <th>stop_obt</th>\n",
       "      <th>stop_utc</th>\n",
       "      <th>event</th>\n",
       "      <th>tip</th>\n",
       "      <th>target</th>\n",
       "      <th>duration</th>\n",
       "    </tr>\n",
       "  </thead>\n",
       "  <tbody>\n",
       "    <tr>\n",
       "      <th>904</th>\n",
       "      <td>4.139406e+08</td>\n",
       "      <td>2016-02-12 23:31:24.667</td>\n",
       "      <td>4.139636e+08</td>\n",
       "      <td>2016-02-13 05:55:19.417</td>\n",
       "      <td>EXPOSURE</td>\n",
       "      <td>1</td>\n",
       "      <td>14</td>\n",
       "      <td>0 days 06:23:54.750000</td>\n",
       "    </tr>\n",
       "    <tr>\n",
       "      <th>912</th>\n",
       "      <td>4.144413e+08</td>\n",
       "      <td>2016-02-18 18:35:52.941</td>\n",
       "      <td>4.145684e+08</td>\n",
       "      <td>2016-02-20 05:55:19.867</td>\n",
       "      <td>EXPOSURE</td>\n",
       "      <td>16</td>\n",
       "      <td>14</td>\n",
       "      <td>1 days 11:19:26.926000</td>\n",
       "    </tr>\n",
       "    <tr>\n",
       "      <th>914</th>\n",
       "      <td>4.146628e+08</td>\n",
       "      <td>2016-02-21 08:07:26.400</td>\n",
       "      <td>4.147960e+08</td>\n",
       "      <td>2016-02-22 21:08:20.757</td>\n",
       "      <td>EXPOSURE</td>\n",
       "      <td>2</td>\n",
       "      <td>14</td>\n",
       "      <td>1 days 13:00:54.357000</td>\n",
       "    </tr>\n",
       "    <tr>\n",
       "      <th>917</th>\n",
       "      <td>4.148903e+08</td>\n",
       "      <td>2016-02-23 23:19:26.328</td>\n",
       "      <td>4.149104e+08</td>\n",
       "      <td>2016-02-24 04:55:01.518</td>\n",
       "      <td>EXPOSURE</td>\n",
       "      <td>1</td>\n",
       "      <td>14</td>\n",
       "      <td>0 days 05:35:35.190000</td>\n",
       "    </tr>\n",
       "  </tbody>\n",
       "</table>\n",
       "</div>"
      ],
      "text/plain": [
       "        start_obt               start_utc      stop_obt  \\\n",
       "904  4.139406e+08 2016-02-12 23:31:24.667  4.139636e+08   \n",
       "912  4.144413e+08 2016-02-18 18:35:52.941  4.145684e+08   \n",
       "914  4.146628e+08 2016-02-21 08:07:26.400  4.147960e+08   \n",
       "917  4.148903e+08 2016-02-23 23:19:26.328  4.149104e+08   \n",
       "\n",
       "                   stop_utc     event tip target               duration  \n",
       "904 2016-02-13 05:55:19.417  EXPOSURE   1     14 0 days 06:23:54.750000  \n",
       "912 2016-02-20 05:55:19.867  EXPOSURE  16     14 1 days 11:19:26.926000  \n",
       "914 2016-02-22 21:08:20.757  EXPOSURE   2     14 1 days 13:00:54.357000  \n",
       "917 2016-02-24 04:55:01.518  EXPOSURE   1     14 0 days 05:35:35.190000  "
      ]
     },
     "execution_count": 92,
     "metadata": {},
     "output_type": "execute_result"
    }
   ],
   "source": [
    "exposures[ (exposures.start_utc >= search_start) & (exposures.stop_utc <= search_stop) ]"
   ]
  },
  {
   "cell_type": "markdown",
   "metadata": {},
   "source": [
    "OK, so MIDAS was exposing around this event (row 912), but also a couple of days after. Note that hte short, 6 hour exposures, were during periods when the spacecraft thrusters were firing and it was deemd too dangerous to scan, but the time could be used for additional exposures."
   ]
  },
  {
   "cell_type": "code",
   "execution_count": 95,
   "metadata": {},
   "outputs": [
    {
     "data": {
      "text/plain": [
       "start_obt                   4.14441e+08\n",
       "start_utc    2016-02-18 18:35:52.941000\n",
       "stop_obt                    4.14568e+08\n",
       "stop_utc     2016-02-20 05:55:19.867000\n",
       "event                          EXPOSURE\n",
       "tip                                  16\n",
       "target                               14\n",
       "duration         1 days 11:19:26.926000\n",
       "Name: 912, dtype: object"
      ]
     },
     "execution_count": 95,
     "metadata": {},
     "output_type": "execute_result"
    }
   ],
   "source": [
    "exposure = exposures.loc[912]\n",
    "exposure"
   ]
  },
  {
   "cell_type": "markdown",
   "metadata": {},
   "source": [
    "OK, so now we know which target was exposed, and for how long, during the outburst. Many targets were exposed multiple times (because \"pre-scanning\" to see what was there before exposure was very time-consuming, and it was more efficient to re-use targets). To see if we have any scans uniquely looking at dust collected in this exposure, we will look at the history of this target shortly after the given exposure:"
   ]
  },
  {
   "cell_type": "code",
   "execution_count": 96,
   "metadata": {},
   "outputs": [
    {
     "data": {
      "text/html": [
       "<div>\n",
       "<style scoped>\n",
       "    .dataframe tbody tr th:only-of-type {\n",
       "        vertical-align: middle;\n",
       "    }\n",
       "\n",
       "    .dataframe tbody tr th {\n",
       "        vertical-align: top;\n",
       "    }\n",
       "\n",
       "    .dataframe thead th {\n",
       "        text-align: right;\n",
       "    }\n",
       "</style>\n",
       "<table border=\"1\" class=\"dataframe\">\n",
       "  <thead>\n",
       "    <tr style=\"text-align: right;\">\n",
       "      <th></th>\n",
       "      <th>start_obt</th>\n",
       "      <th>start_utc</th>\n",
       "      <th>stop_obt</th>\n",
       "      <th>stop_utc</th>\n",
       "      <th>event</th>\n",
       "      <th>tip</th>\n",
       "      <th>target</th>\n",
       "    </tr>\n",
       "  </thead>\n",
       "  <tbody>\n",
       "    <tr>\n",
       "      <th>912</th>\n",
       "      <td>4.144413e+08</td>\n",
       "      <td>2016-02-18 18:35:52.941</td>\n",
       "      <td>4.145684e+08</td>\n",
       "      <td>2016-02-20 05:55:19.867</td>\n",
       "      <td>EXPOSURE</td>\n",
       "      <td>16</td>\n",
       "      <td>14</td>\n",
       "    </tr>\n",
       "    <tr>\n",
       "      <th>914</th>\n",
       "      <td>4.146628e+08</td>\n",
       "      <td>2016-02-21 08:07:26.400</td>\n",
       "      <td>4.147960e+08</td>\n",
       "      <td>2016-02-22 21:08:20.757</td>\n",
       "      <td>EXPOSURE</td>\n",
       "      <td>2</td>\n",
       "      <td>14</td>\n",
       "    </tr>\n",
       "    <tr>\n",
       "      <th>916</th>\n",
       "      <td>4.148903e+08</td>\n",
       "      <td>2016-02-23 23:19:26.328</td>\n",
       "      <td>4.155193e+08</td>\n",
       "      <td>2016-03-02 06:02:52.693</td>\n",
       "      <td>EXPOSURE</td>\n",
       "      <td>1</td>\n",
       "      <td>14</td>\n",
       "    </tr>\n",
       "    <tr>\n",
       "      <th>917</th>\n",
       "      <td>4.148903e+08</td>\n",
       "      <td>2016-02-23 23:19:26.328</td>\n",
       "      <td>4.149104e+08</td>\n",
       "      <td>2016-02-24 04:55:01.518</td>\n",
       "      <td>EXPOSURE</td>\n",
       "      <td>1</td>\n",
       "      <td>14</td>\n",
       "    </tr>\n",
       "    <tr>\n",
       "      <th>919</th>\n",
       "      <td>4.149559e+08</td>\n",
       "      <td>2016-02-24 17:32:36.396</td>\n",
       "      <td>4.150251e+08</td>\n",
       "      <td>2016-02-25 12:46:51.418</td>\n",
       "      <td>SCANNING</td>\n",
       "      <td>11</td>\n",
       "      <td>14</td>\n",
       "    </tr>\n",
       "    <tr>\n",
       "      <th>938</th>\n",
       "      <td>4.161324e+08</td>\n",
       "      <td>2016-03-09 08:21:08.772</td>\n",
       "      <td>4.162141e+08</td>\n",
       "      <td>2016-03-10 07:03:48.798</td>\n",
       "      <td>SCANNING</td>\n",
       "      <td>11</td>\n",
       "      <td>14</td>\n",
       "    </tr>\n",
       "    <tr>\n",
       "      <th>939</th>\n",
       "      <td>4.162431e+08</td>\n",
       "      <td>2016-03-10 15:06:11.807</td>\n",
       "      <td>4.163247e+08</td>\n",
       "      <td>2016-03-11 13:46:22.833</td>\n",
       "      <td>SCANNING</td>\n",
       "      <td>11</td>\n",
       "      <td>14</td>\n",
       "    </tr>\n",
       "    <tr>\n",
       "      <th>945</th>\n",
       "      <td>4.167489e+08</td>\n",
       "      <td>2016-03-16 11:37:11.969</td>\n",
       "      <td>4.167740e+08</td>\n",
       "      <td>2016-03-16 18:35:04.977</td>\n",
       "      <td>SCANNING</td>\n",
       "      <td>1</td>\n",
       "      <td>14</td>\n",
       "    </tr>\n",
       "    <tr>\n",
       "      <th>947</th>\n",
       "      <td>4.169969e+08</td>\n",
       "      <td>2016-03-19 08:30:00.048</td>\n",
       "      <td>4.171010e+08</td>\n",
       "      <td>2016-03-20 13:25:10.081</td>\n",
       "      <td>SCANNING</td>\n",
       "      <td>1</td>\n",
       "      <td>14</td>\n",
       "    </tr>\n",
       "    <tr>\n",
       "      <th>948</th>\n",
       "      <td>4.171340e+08</td>\n",
       "      <td>2016-03-20 22:34:35.092</td>\n",
       "      <td>4.171589e+08</td>\n",
       "      <td>2016-03-21 05:30:01.100</td>\n",
       "      <td>SCANNING</td>\n",
       "      <td>1</td>\n",
       "      <td>14</td>\n",
       "    </tr>\n",
       "  </tbody>\n",
       "</table>\n",
       "</div>"
      ],
      "text/plain": [
       "        start_obt               start_utc      stop_obt  \\\n",
       "912  4.144413e+08 2016-02-18 18:35:52.941  4.145684e+08   \n",
       "914  4.146628e+08 2016-02-21 08:07:26.400  4.147960e+08   \n",
       "916  4.148903e+08 2016-02-23 23:19:26.328  4.155193e+08   \n",
       "917  4.148903e+08 2016-02-23 23:19:26.328  4.149104e+08   \n",
       "919  4.149559e+08 2016-02-24 17:32:36.396  4.150251e+08   \n",
       "938  4.161324e+08 2016-03-09 08:21:08.772  4.162141e+08   \n",
       "939  4.162431e+08 2016-03-10 15:06:11.807  4.163247e+08   \n",
       "945  4.167489e+08 2016-03-16 11:37:11.969  4.167740e+08   \n",
       "947  4.169969e+08 2016-03-19 08:30:00.048  4.171010e+08   \n",
       "948  4.171340e+08 2016-03-20 22:34:35.092  4.171589e+08   \n",
       "\n",
       "                   stop_utc     event tip target  \n",
       "912 2016-02-20 05:55:19.867  EXPOSURE  16     14  \n",
       "914 2016-02-22 21:08:20.757  EXPOSURE   2     14  \n",
       "916 2016-03-02 06:02:52.693  EXPOSURE   1     14  \n",
       "917 2016-02-24 04:55:01.518  EXPOSURE   1     14  \n",
       "919 2016-02-25 12:46:51.418  SCANNING  11     14  \n",
       "938 2016-03-10 07:03:48.798  SCANNING  11     14  \n",
       "939 2016-03-11 13:46:22.833  SCANNING  11     14  \n",
       "945 2016-03-16 18:35:04.977  SCANNING   1     14  \n",
       "947 2016-03-20 13:25:10.081  SCANNING   1     14  \n",
       "948 2016-03-21 05:30:01.100  SCANNING   1     14  "
      ]
     },
     "execution_count": 96,
     "metadata": {},
     "output_type": "execute_result"
    }
   ],
   "source": [
    "history[ (history.start_utc >= exposure.start_utc) & (history.target==exposure.target) ].head(10)"
   ]
  },
  {
   "cell_type": "markdown",
   "metadata": {},
   "source": [
    "Unfortunately further exposures were commanded of this target _before_ any scans, so whilst we can hypothesise that any dust seen in subsequent scans was emitted during the ouburst, one cannot be 100% sure. Now we already see the first scan of this target after the exposure.\n",
    "\n",
    "To proceed, we want to get a list of the images taken of target 14 after the end of the exposure. Whilst the target number is stored as meta-data in the PDS label, it is not exposed to the EPN-TAP interface. But, as you see above, we have a list of scan start times which we **can** search for.  The EPN-TAP date column stores a Julian date, so we will have to convert the date to this format...."
   ]
  },
  {
   "cell_type": "markdown",
   "metadata": {},
   "source": [
    "We will first see if there rae _any_ other exposures on target 14 beyond the ones identified above:"
   ]
  },
  {
   "cell_type": "code",
   "execution_count": 99,
   "metadata": {},
   "outputs": [
    {
     "data": {
      "text/html": [
       "<div>\n",
       "<style scoped>\n",
       "    .dataframe tbody tr th:only-of-type {\n",
       "        vertical-align: middle;\n",
       "    }\n",
       "\n",
       "    .dataframe tbody tr th {\n",
       "        vertical-align: top;\n",
       "    }\n",
       "\n",
       "    .dataframe thead th {\n",
       "        text-align: right;\n",
       "    }\n",
       "</style>\n",
       "<table border=\"1\" class=\"dataframe\">\n",
       "  <thead>\n",
       "    <tr style=\"text-align: right;\">\n",
       "      <th></th>\n",
       "      <th>start_obt</th>\n",
       "      <th>start_utc</th>\n",
       "      <th>stop_obt</th>\n",
       "      <th>stop_utc</th>\n",
       "      <th>event</th>\n",
       "      <th>tip</th>\n",
       "      <th>target</th>\n",
       "      <th>duration</th>\n",
       "    </tr>\n",
       "  </thead>\n",
       "  <tbody>\n",
       "    <tr>\n",
       "      <th>914</th>\n",
       "      <td>4.146628e+08</td>\n",
       "      <td>2016-02-21 08:07:26.400</td>\n",
       "      <td>4.147960e+08</td>\n",
       "      <td>2016-02-22 21:08:20.757</td>\n",
       "      <td>EXPOSURE</td>\n",
       "      <td>2</td>\n",
       "      <td>14</td>\n",
       "      <td>1 days 13:00:54.357000</td>\n",
       "    </tr>\n",
       "    <tr>\n",
       "      <th>916</th>\n",
       "      <td>4.148903e+08</td>\n",
       "      <td>2016-02-23 23:19:26.328</td>\n",
       "      <td>4.155193e+08</td>\n",
       "      <td>2016-03-02 06:02:52.693</td>\n",
       "      <td>EXPOSURE</td>\n",
       "      <td>1</td>\n",
       "      <td>14</td>\n",
       "      <td>7 days 06:43:26.365000</td>\n",
       "    </tr>\n",
       "    <tr>\n",
       "      <th>917</th>\n",
       "      <td>4.148903e+08</td>\n",
       "      <td>2016-02-23 23:19:26.328</td>\n",
       "      <td>4.149104e+08</td>\n",
       "      <td>2016-02-24 04:55:01.518</td>\n",
       "      <td>EXPOSURE</td>\n",
       "      <td>1</td>\n",
       "      <td>14</td>\n",
       "      <td>0 days 05:35:35.190000</td>\n",
       "    </tr>\n",
       "  </tbody>\n",
       "</table>\n",
       "</div>"
      ],
      "text/plain": [
       "        start_obt               start_utc      stop_obt  \\\n",
       "914  4.146628e+08 2016-02-21 08:07:26.400  4.147960e+08   \n",
       "916  4.148903e+08 2016-02-23 23:19:26.328  4.155193e+08   \n",
       "917  4.148903e+08 2016-02-23 23:19:26.328  4.149104e+08   \n",
       "\n",
       "                   stop_utc     event tip target               duration  \n",
       "914 2016-02-22 21:08:20.757  EXPOSURE   2     14 1 days 13:00:54.357000  \n",
       "916 2016-03-02 06:02:52.693  EXPOSURE   1     14 7 days 06:43:26.365000  \n",
       "917 2016-02-24 04:55:01.518  EXPOSURE   1     14 0 days 05:35:35.190000  "
      ]
     },
     "execution_count": 99,
     "metadata": {},
     "output_type": "execute_result"
    }
   ],
   "source": [
    "exposures[ (exposures.start_utc >= history.loc[912].stop_utc) & (exposures.target==exposure.target) ]"
   ]
  },
  {
   "cell_type": "markdown",
   "metadata": {},
   "source": [
    "No, this target was not used again after the last exposure shown - so any scans after this point should be useful."
   ]
  },
  {
   "cell_type": "code",
   "execution_count": 104,
   "metadata": {},
   "outputs": [],
   "source": [
    "scan_times = history[ (history.target==exposure.target) & (history.event=='SCANNING') & (history.start_utc > exposures.loc[917].stop_utc)].start_utc"
   ]
  },
  {
   "cell_type": "code",
   "execution_count": 155,
   "metadata": {},
   "outputs": [
    {
     "data": {
      "text/plain": [
       "216"
      ]
     },
     "execution_count": 155,
     "metadata": {},
     "output_type": "execute_result"
    }
   ],
   "source": [
    "len(scan_times)"
   ]
  },
  {
   "cell_type": "markdown",
   "metadata": {},
   "source": [
    "Now we have two ways to get these images and analyse them - we can use the particle catalogue, or we can simply query and display the relevant image scans. First we are going to use EPN-TAP to return all topographic images matching these times. We search for all MIDAS data with as start time in a +/- 1 minute window of the value we found before, and filter on the product name - this is useful since MIDAS topographc images all end ZS (Z set point):"
   ]
  },
  {
   "cell_type": "code",
   "execution_count": 136,
   "metadata": {},
   "outputs": [],
   "source": [
    "images = []\n",
    "for start_time in scan_times:\n",
    "    start = (start_time-pd.Timedelta(minutes=1)).to_julian_date()\n",
    "    end = (start_time+pd.Timedelta(minutes=1)).to_julian_date()         \n",
    "    query = \"SELECT * FROM epn_core WHERE target_name='67P' AND instrument_name='MIDAS' AND time_min>'%s' and time_min<'%s' and processing_level=5 and granule_uid like '%%ZS'\" % (start, end)\n",
    "    data = tap_to_pandas(query, psa)\n",
    "    if data is None:\n",
    "        continue\n",
    "    images.append(data.iloc[0])\n",
    "images = pd.DataFrame(images)"
   ]
  },
  {
   "cell_type": "markdown",
   "metadata": {},
   "source": [
    "### Delving into one image\n",
    "\n",
    "OK. now we have a list of MIDAS image scans made of dust probably collected during the outburst discussed in the paper. Let's pick the first one and see what we can see:"
   ]
  },
  {
   "cell_type": "code",
   "execution_count": 156,
   "metadata": {},
   "outputs": [
    {
     "data": {
      "text/plain": [
       "access_estsize                                                      27178\n",
       "access_format                                       application/x-pds-zip\n",
       "access_url              https://archives.esac.esa.int/psa/pdap/downloa...\n",
       "creation_date                                   2019-04-07T14:25:26.19741\n",
       "dataproduct_type                                                       ci\n",
       "granule_gid                           RO-C-MIDAS-3-EXT1-SAMPLES-V3.0:DATA\n",
       "granule_uid             RO-C-MIDAS-3-EXT1-SAMPLES-V3.0:DATA:IMG_160402...\n",
       "instrument_host_name                                              Rosetta\n",
       "instrument_name                                                     MIDAS\n",
       "measurement_type                                                         \n",
       "modification_date                               2019-04-07T14:25:26.19741\n",
       "obs_id                  RO-C-MIDAS-3-EXT1-SAMPLES-V3.0:DATA:IMG_160402...\n",
       "processing_level                                                        5\n",
       "release_date                                        2019-03-15T00:00:00.0\n",
       "service_title                                                         psa\n",
       "spatial_frame_type                                                   none\n",
       "s_region                                                                 \n",
       "target_class                                                        comet\n",
       "target_name                                                           67P\n",
       "thumbnail_url           https://archives.esac.esa.int/psa/pdap/fileacc...\n",
       "time_max                                                      2.45744e+06\n",
       "time_min                                                      2.45744e+06\n",
       "Name: 0, dtype: object"
      ]
     },
     "execution_count": 156,
     "metadata": {},
     "output_type": "execute_result"
    }
   ],
   "source": [
    "image = images.iloc[0]\n",
    "image"
   ]
  },
  {
   "cell_type": "markdown",
   "metadata": {},
   "source": [
    "\n",
    "Ooh there is a thumbnail_url - let's look at that:"
   ]
  },
  {
   "cell_type": "code",
   "execution_count": 157,
   "metadata": {},
   "outputs": [
    {
     "data": {
      "text/plain": [
       "'https://archives.esac.esa.int/psa/pdap/fileaccess?ID=INTERNATIONALsROSETTAsMISSION/RO-C-MIDAS-3-EXT1-SAMPLES-V3.0/BROWSE/PRV_1604023_1606900_044_ZS.JPG'"
      ]
     },
     "execution_count": 157,
     "metadata": {},
     "output_type": "execute_result"
    }
   ],
   "source": [
    "image.thumbnail_url"
   ]
  },
  {
   "cell_type": "markdown",
   "metadata": {},
   "source": [
    "So it's a simple JPG that we can probably view:"
   ]
  },
  {
   "cell_type": "code",
   "execution_count": 158,
   "metadata": {},
   "outputs": [
    {
     "data": {
      "text/html": [
       "<img src=\"https://archives.esac.esa.int/psa/pdap/fileaccess?ID=INTERNATIONALsROSETTAsMISSION/RO-C-MIDAS-3-EXT1-SAMPLES-V3.0/BROWSE/PRV_1604023_1606900_044_ZS.JPG\"/>"
      ],
      "text/plain": [
       "<IPython.core.display.Image object>"
      ]
     },
     "execution_count": 158,
     "metadata": {},
     "output_type": "execute_result"
    }
   ],
   "source": [
    "Image(url=image.thumbnail_url)"
   ]
  },
  {
   "cell_type": "markdown",
   "metadata": {},
   "source": [
    "As well as a thumbnail URL, the database entry points to how we can download the actual data:"
   ]
  },
  {
   "cell_type": "code",
   "execution_count": 159,
   "metadata": {},
   "outputs": [
    {
     "data": {
      "text/plain": [
       "'https://archives.esac.esa.int/psa/pdap/download?CLIENT=epntap&RESOURCE_CLASS=PRODUCT&ID=RO-C-MIDAS-3-EXT1-SAMPLES-V3.0:DATA:IMG_1604023_1606900_044_ZS'"
      ]
     },
     "execution_count": 159,
     "metadata": {},
     "output_type": "execute_result"
    }
   ],
   "source": [
    "image.access_url"
   ]
  },
  {
   "cell_type": "code",
   "execution_count": 160,
   "metadata": {
    "slideshow": {
     "slide_type": "fragment"
    }
   },
   "outputs": [
    {
     "data": {
      "text/plain": [
       "['RO-C-MIDAS-3-EXT1-SAMPLES-V3.0/DOCUMENT/MID_EAICD.PDF',\n",
       " 'RO-C-MIDAS-3-EXT1-SAMPLES-V3.0/BROWSE/PRV_1604023_1606900_044_ZS.JPG',\n",
       " 'RO-C-MIDAS-3-EXT1-SAMPLES-V3.0/DOCUMENT/MID_CALIBRATION.PDF',\n",
       " 'RO-C-MIDAS-3-EXT1-SAMPLES-V3.0/DOCUMENT/MID_TIP_IMAGES.PDF',\n",
       " 'RO-C-MIDAS-3-EXT1-SAMPLES-V3.0/DATA/IMG/IMG_1604023_1606900_044_ZS.LBL',\n",
       " 'RO-C-MIDAS-3-EXT1-SAMPLES-V3.0/DATA/IMG/IMG_1604023_1606900_044_ZS.IMG',\n",
       " 'RO-C-MIDAS-3-EXT1-SAMPLES-V3.0/BROWSE/PRV_1604023_1606900_044_ZS.LBL',\n",
       " 'inventory.txt']"
      ]
     },
     "execution_count": 160,
     "metadata": {},
     "output_type": "execute_result"
    }
   ],
   "source": [
    "r = requests.get(url=image.access_url)\n",
    "zip = zipfile.ZipFile(BytesIO(r.content))\n",
    "zip.namelist()"
   ]
  },
  {
   "cell_type": "markdown",
   "metadata": {},
   "source": [
    "This zip contains quite a lot of information, since it automatically includes documents of relevance. For now we just want the image file and label in the data directory:"
   ]
  },
  {
   "cell_type": "code",
   "execution_count": 161,
   "metadata": {
    "slideshow": {
     "slide_type": "fragment"
    }
   },
   "outputs": [],
   "source": [
    "label_file, data_file = get_lbl_prod(zip)"
   ]
  },
  {
   "cell_type": "markdown",
   "metadata": {},
   "source": [
    "The label file is a PDS3 label in a format called PVL - there is a library for this so we can load and parse the label:"
   ]
  },
  {
   "cell_type": "code",
   "execution_count": 163,
   "metadata": {},
   "outputs": [],
   "source": [
    "label = pvl.load(zip.open(label_file))"
   ]
  },
  {
   "cell_type": "markdown",
   "metadata": {},
   "source": [
    "The raw data file we will just read into memory to process later:"
   ]
  },
  {
   "cell_type": "code",
   "execution_count": 164,
   "metadata": {},
   "outputs": [],
   "source": [
    "rawdata = zip.open(data_file).read()"
   ]
  },
  {
   "cell_type": "markdown",
   "metadata": {
    "slideshow": {
     "slide_type": "slide"
    }
   },
   "source": [
    "Now we need to know a bit more - if you browse the label more carefully you can see that the .IMG file contains two parts - an ASCII header with a fixed length of 2048 bytes, and some binary data. "
   ]
  },
  {
   "cell_type": "code",
   "execution_count": 165,
   "metadata": {
    "slideshow": {
     "slide_type": "fragment"
    }
   },
   "outputs": [],
   "source": [
    "offset = label['BCR_HEADER']['BYTES']\n",
    "zcal = float(label['BCR_IMAGE']['SCALING_FACTOR'])\n",
    "xpix = int(label['BCR_IMAGE']['LINE_SAMPLES'])\n",
    "ypix = int(label['BCR_IMAGE']['LINES'])\n",
    "xpix_m = float(label['HORIZONTAL_PIXEL_SCALE'])\n",
    "ypix_m = float(label['VERTICAL_PIXEL_SCALE'])\n",
    "xlen_nm = xpix_m * xpix * 1.e9\n",
    "ylen_nm = ypix_m * xpix * 1.e9\n",
    "length = xpix * ypix"
   ]
  },
  {
   "cell_type": "markdown",
   "metadata": {
    "slideshow": {
     "slide_type": "slide"
    }
   },
   "source": [
    "Data are stored as little-endian signed integers - simply read them using the struct module, re-shape according to the label data, rescale so that zero is the minimum and multiply by the Z (height) calibration factor."
   ]
  },
  {
   "cell_type": "code",
   "execution_count": 166,
   "metadata": {
    "slideshow": {
     "slide_type": "fragment"
    }
   },
   "outputs": [],
   "source": [
    "data = np.array(struct.unpack('<%dh'%length, rawdata[offset:]), dtype=np.float)\n",
    "data = data.reshape(xpix,ypix)\n",
    "data -= data.min()\n",
    "data *= zcal"
   ]
  },
  {
   "cell_type": "markdown",
   "metadata": {},
   "source": [
    "Now plot this - firstly simply using Matplotlib:"
   ]
  },
  {
   "cell_type": "code",
   "execution_count": 167,
   "metadata": {
    "code_folding": [],
    "slideshow": {
     "slide_type": "slide"
    }
   },
   "outputs": [
    {
     "data": {
      "image/png": "[encoded data removed]",
      "text/plain": [
       "<Figure size 1008x720 with 2 Axes>"
      ]
     },
     "metadata": {
      "needs_background": "light"
     },
     "output_type": "display_data"
    }
   ],
   "source": [
    "fig, ax = plt.subplots(figsize=(14,10))\n",
    "extent = [0., xlen_nm, 0., ylen_nm]\n",
    "im = ax.imshow(data, interpolation='nearest', extent=extent, cmap=plt.cm.afmhot)\n",
    "cbar = plt.colorbar(im)\n",
    "plt.setp(ax.get_xticklabels(), rotation=45)\n",
    "ax.set_xlabel('x (nm)')\n",
    "ax.set_ylabel('y (nm)')\n",
    "cbar.set_label('z (nm)')"
   ]
  },
  {
   "cell_type": "markdown",
   "metadata": {},
   "source": [
    "Great, this looks like the preview image above! We can also display in 3D and interactive using plotly:"
   ]
  },
  {
   "cell_type": "code",
   "execution_count": 168,
   "metadata": {
    "code_folding": [],
    "slideshow": {
     "slide_type": "slide"
    }
   },
   "outputs": [
    {
     "ename": "AttributeError",
     "evalue": "'Series' object has no attribute 'product_id'",
     "output_type": "error",
     "traceback": [
      "\u001b[0;31m---------------------------------------------------------------------------\u001b[0m",
      "\u001b[0;31mAttributeError\u001b[0m                            Traceback (most recent call last)",
      "\u001b[0;32m<ipython-input-168-0eeee2e7b785>\u001b[0m in \u001b[0;36m<module>\u001b[0;34m\u001b[0m\n\u001b[1;32m      3\u001b[0m \u001b[0mxs\u001b[0m\u001b[0;34m,\u001b[0m \u001b[0mys\u001b[0m \u001b[0;34m=\u001b[0m \u001b[0mnp\u001b[0m\u001b[0;34m.\u001b[0m\u001b[0mmeshgrid\u001b[0m\u001b[0;34m(\u001b[0m\u001b[0mxvals\u001b[0m\u001b[0;34m,\u001b[0m \u001b[0myvals\u001b[0m\u001b[0;34m)\u001b[0m\u001b[0;34m\u001b[0m\u001b[0;34m\u001b[0m\u001b[0m\n\u001b[1;32m      4\u001b[0m \u001b[0mimg_data\u001b[0m \u001b[0;34m=\u001b[0m \u001b[0;34m[\u001b[0m \u001b[0mgo\u001b[0m\u001b[0;34m.\u001b[0m\u001b[0mSurface\u001b[0m\u001b[0;34m(\u001b[0m\u001b[0mx\u001b[0m\u001b[0;34m=\u001b[0m\u001b[0mxs\u001b[0m\u001b[0;34m,\u001b[0m \u001b[0my\u001b[0m\u001b[0;34m=\u001b[0m\u001b[0mys\u001b[0m\u001b[0;34m,\u001b[0m \u001b[0mz\u001b[0m\u001b[0;34m=\u001b[0m\u001b[0mdata\u001b[0m\u001b[0;34m/\u001b[0m\u001b[0;36m100.\u001b[0m\u001b[0;34m)\u001b[0m \u001b[0;34m]\u001b[0m\u001b[0;34m\u001b[0m\u001b[0;34m\u001b[0m\u001b[0m\n\u001b[0;32m----> 5\u001b[0;31m \u001b[0mlayout\u001b[0m \u001b[0;34m=\u001b[0m \u001b[0mgo\u001b[0m\u001b[0;34m.\u001b[0m\u001b[0mLayout\u001b[0m\u001b[0;34m(\u001b[0m\u001b[0mtitle\u001b[0m\u001b[0;34m=\u001b[0m\u001b[0mimage\u001b[0m\u001b[0;34m.\u001b[0m\u001b[0mproduct_id\u001b[0m\u001b[0;34m,\u001b[0m \u001b[0mautosize\u001b[0m\u001b[0;34m=\u001b[0m\u001b[0;32mTrue\u001b[0m\u001b[0;34m,\u001b[0m \u001b[0mwidth\u001b[0m\u001b[0;34m=\u001b[0m\u001b[0;36m800\u001b[0m\u001b[0;34m,\u001b[0m \u001b[0mheight\u001b[0m\u001b[0;34m=\u001b[0m\u001b[0;36m550\u001b[0m\u001b[0;34m,\u001b[0m \u001b[0mmargin\u001b[0m\u001b[0;34m=\u001b[0m\u001b[0mdict\u001b[0m\u001b[0;34m(\u001b[0m\u001b[0ml\u001b[0m\u001b[0;34m=\u001b[0m\u001b[0;36m65\u001b[0m\u001b[0;34m,\u001b[0m \u001b[0mr\u001b[0m\u001b[0;34m=\u001b[0m\u001b[0;36m50\u001b[0m\u001b[0;34m,\u001b[0m \u001b[0mb\u001b[0m\u001b[0;34m=\u001b[0m\u001b[0;36m65\u001b[0m\u001b[0;34m,\u001b[0m \u001b[0mt\u001b[0m\u001b[0;34m=\u001b[0m\u001b[0;36m90\u001b[0m\u001b[0;34m)\u001b[0m\u001b[0;34m,\u001b[0m \u001b[0mscene\u001b[0m \u001b[0;34m=\u001b[0m \u001b[0mdict\u001b[0m\u001b[0;34m(\u001b[0m\u001b[0maspectmode\u001b[0m\u001b[0;34m=\u001b[0m\u001b[0;34m'data'\u001b[0m\u001b[0;34m)\u001b[0m\u001b[0;34m)\u001b[0m\u001b[0;34m\u001b[0m\u001b[0;34m\u001b[0m\u001b[0m\n\u001b[0m\u001b[1;32m      6\u001b[0m \u001b[0mgo\u001b[0m\u001b[0;34m.\u001b[0m\u001b[0mFigureWidget\u001b[0m\u001b[0;34m(\u001b[0m\u001b[0mdata\u001b[0m\u001b[0;34m=\u001b[0m\u001b[0mimg_data\u001b[0m\u001b[0;34m,\u001b[0m \u001b[0mlayout\u001b[0m\u001b[0;34m=\u001b[0m\u001b[0mlayout\u001b[0m\u001b[0;34m)\u001b[0m\u001b[0;31m#, config={'showLink': False, 'displaylogo': False, 'modeBarButtonsToRemove': ['sendDataToCloud']})\u001b[0m\u001b[0;34m\u001b[0m\u001b[0;34m\u001b[0m\u001b[0m\n",
      "\u001b[0;32m~/miniconda3/envs/psa/lib/python3.6/site-packages/pandas/core/generic.py\u001b[0m in \u001b[0;36m__getattr__\u001b[0;34m(self, name)\u001b[0m\n\u001b[1;32m   5065\u001b[0m             \u001b[0;32mif\u001b[0m \u001b[0mself\u001b[0m\u001b[0;34m.\u001b[0m\u001b[0m_info_axis\u001b[0m\u001b[0;34m.\u001b[0m\u001b[0m_can_hold_identifiers_and_holds_name\u001b[0m\u001b[0;34m(\u001b[0m\u001b[0mname\u001b[0m\u001b[0;34m)\u001b[0m\u001b[0;34m:\u001b[0m\u001b[0;34m\u001b[0m\u001b[0;34m\u001b[0m\u001b[0m\n\u001b[1;32m   5066\u001b[0m                 \u001b[0;32mreturn\u001b[0m \u001b[0mself\u001b[0m\u001b[0;34m[\u001b[0m\u001b[0mname\u001b[0m\u001b[0;34m]\u001b[0m\u001b[0;34m\u001b[0m\u001b[0;34m\u001b[0m\u001b[0m\n\u001b[0;32m-> 5067\u001b[0;31m             \u001b[0;32mreturn\u001b[0m \u001b[0mobject\u001b[0m\u001b[0;34m.\u001b[0m\u001b[0m__getattribute__\u001b[0m\u001b[0;34m(\u001b[0m\u001b[0mself\u001b[0m\u001b[0;34m,\u001b[0m \u001b[0mname\u001b[0m\u001b[0;34m)\u001b[0m\u001b[0;34m\u001b[0m\u001b[0;34m\u001b[0m\u001b[0m\n\u001b[0m\u001b[1;32m   5068\u001b[0m \u001b[0;34m\u001b[0m\u001b[0m\n\u001b[1;32m   5069\u001b[0m     \u001b[0;32mdef\u001b[0m \u001b[0m__setattr__\u001b[0m\u001b[0;34m(\u001b[0m\u001b[0mself\u001b[0m\u001b[0;34m,\u001b[0m \u001b[0mname\u001b[0m\u001b[0;34m,\u001b[0m \u001b[0mvalue\u001b[0m\u001b[0;34m)\u001b[0m\u001b[0;34m:\u001b[0m\u001b[0;34m\u001b[0m\u001b[0;34m\u001b[0m\u001b[0m\n",
      "\u001b[0;31mAttributeError\u001b[0m: 'Series' object has no attribute 'product_id'"
     ]
    }
   ],
   "source": [
    "xvals = np.linspace(0., xlen_nm, num=xpix)\n",
    "yvals = np.linspace(0., ylen_nm, num=ypix)\n",
    "xs, ys = np.meshgrid(xvals, yvals)\n",
    "img_data = [ go.Surface(x=xs, y=ys, z=data/100.) ]\n",
    "layout = go.Layout(title=image.product_id, autosize=True, width=800, height=550, margin=dict(l=65, r=50, b=65, t=90), scene = dict(aspectmode='data'))\n",
    "go.FigureWidget(data=img_data, layout=layout)#, config={'showLink': False, 'displaylogo': False, 'modeBarButtonsToRemove': ['sendDataToCloud']})"
   ]
  },
  {
   "cell_type": "markdown",
   "metadata": {},
   "source": [
    "To make our life a bit easier, we'll define a function here that accepts the granule_uid of a product (e.g. from a previous search) and grabs this data and plots it with MPL (plot_by_uid)"
   ]
  },
  {
   "cell_type": "code",
   "execution_count": 169,
   "metadata": {},
   "outputs": [],
   "source": [
    "def plot_by_uid(uid, tap_handle):\n",
    "    \"\"\"Accepts an EPN-TAP granule_uid for a MIDAS product, uses the access_url to\n",
    "    download the zipped product, parses the label and uses the meta-data to\n",
    "    plot the image product in 2D\"\"\"\n",
    "    \n",
    "    query = \"SELECT * FROM epn_core WHERE granule_uid='%s'\" % uid\n",
    "    table = tap_handle.launch_job(query).get_data()\n",
    "    \n",
    "    if len(table) == 0:\n",
    "        print('ERROR: this uid does not exist')\n",
    "    elif len(table) > 1:\n",
    "        print('ERROR: more than one product match this uid')\n",
    "    else:\n",
    "        access_url = table[0]['access_url'].decode('utf-8')\n",
    "        \n",
    "        r = requests.get(url=access_url)\n",
    "        zip = zipfile.ZipFile(BytesIO(r.content))\n",
    "        label_file = [filename for filename in zip.namelist() if (filename.endswith('.LBL') and filename.split('/')[1]=='DATA')][0]\n",
    "        label = pvl.load(zip.open(label_file))\n",
    "        data_file = [filename for filename in zip.namelist() if (filename.endswith('.IMG') and filename.split('/')[1]=='DATA')][0]\n",
    "        rawdata = zip.open(data_file).read()\n",
    "        \n",
    "        offset = label['BCR_HEADER']['BYTES']\n",
    "        zcal = float(label['BCR_IMAGE']['SCALING_FACTOR'])\n",
    "        xpix = int(label['BCR_IMAGE']['LINE_SAMPLES'])\n",
    "        ypix = int(label['BCR_IMAGE']['LINES'])\n",
    "        xpix_m = float(label['HORIZONTAL_PIXEL_SCALE'])\n",
    "        ypix_m = float(label['VERTICAL_PIXEL_SCALE'])\n",
    "        xlen_nm = xpix_m * xpix * 1.e9\n",
    "        ylen_nm = ypix_m * xpix * 1.e9\n",
    "        length = xpix * ypix\n",
    "        \n",
    "        data = np.array(struct.unpack('<%dh'%length, rawdata[offset:]), dtype=np.float)\n",
    "        data = data.reshape(xpix,ypix)\n",
    "        data -= data.min()\n",
    "        data *= zcal\n",
    "\n",
    "        fig, ax = plt.subplots(figsize=(14,10))\n",
    "        extent = [0., xlen_nm, 0., ylen_nm]\n",
    "        im = ax.imshow(data, interpolation='nearest', extent=extent, cmap=plt.cm.afmhot)\n",
    "        cbar = plt.colorbar(im)\n",
    "        plt.setp(ax.get_xticklabels(), rotation=45)\n",
    "        ax.set_xlabel('x (nm)')\n",
    "        ax.set_ylabel('y (nm)')\n",
    "        # cbar.set_label('z (nm)')"
   ]
  },
  {
   "cell_type": "markdown",
   "metadata": {},
   "source": [
    "We can now, for example, take the UID of any of the images in our table and display it. Let's take the last one:"
   ]
  },
  {
   "cell_type": "code",
   "execution_count": 172,
   "metadata": {},
   "outputs": [
    {
     "data": {
      "image/png": "[encoded data removed]",
      "text/plain": [
       "<Figure size 1008x720 with 2 Axes>"
      ]
     },
     "metadata": {
      "needs_background": "light"
     },
     "output_type": "display_data"
    }
   ],
   "source": [
    "plot_by_uid(images.granule_uid.iloc[-1], psa)"
   ]
  },
  {
   "cell_type": "markdown",
   "metadata": {},
   "source": [
    "## The particle catalogue"
   ]
  },
  {
   "cell_type": "markdown",
   "metadata": {},
   "source": [
    "A new, derived, product was recently added to the MIDAS archive - the particle catalogue. This is a table derived from the images by the MIDAS team and identifies cometary particles, along with giving some key parameters. It has a known name and we can find it easily:"
   ]
  },
  {
   "cell_type": "code",
   "execution_count": 173,
   "metadata": {},
   "outputs": [],
   "source": [
    "prod_id = 'MID_PARTICLE_TABLE'"
   ]
  },
  {
   "cell_type": "code",
   "execution_count": 174,
   "metadata": {},
   "outputs": [
    {
     "data": {
      "text/html": [
       "&lt;MaskedColumn name=&apos;granule_uid&apos; dtype=&apos;object&apos; description=&apos;granule_uid&apos; length=1&gt;\n",
       "<table>\n",
       "<tr><td>RO-C-MIDAS-5-PRL-TO-EXT3-V1.0:DATA:MID_PARTICLE_TABLE</td></tr>\n",
       "</table>"
      ],
      "text/plain": [
       "<MaskedColumn name='granule_uid' dtype='object' description='granule_uid' length=1>\n",
       "RO-C-MIDAS-5-PRL-TO-EXT3-V1.0:DATA:MID_PARTICLE_TABLE"
      ]
     },
     "execution_count": 174,
     "metadata": {},
     "output_type": "execute_result"
    }
   ],
   "source": [
    "query = \"SELECT * FROM epn_core WHERE instrument_name='MIDAS' AND GRANULE_UID LIKE '%MID_PARTICLE_TABLE'\"\n",
    "data = psa.launch_job(query).get_data()\n",
    "data['granule_uid']"
   ]
  },
  {
   "cell_type": "markdown",
   "metadata": {},
   "source": [
    "As expected, we have one single product returned. We can grab the table and its label as a zip as for an image file, and load it in"
   ]
  },
  {
   "cell_type": "code",
   "execution_count": 175,
   "metadata": {},
   "outputs": [],
   "source": [
    "catalogue_url = data['access_url'].data[0]"
   ]
  },
  {
   "cell_type": "code",
   "execution_count": 176,
   "metadata": {},
   "outputs": [
    {
     "data": {
      "text/plain": [
       "['RO-C-MIDAS-5-PRL-TO-EXT3-V1.0/DATA/MID_PARTICLE_TABLE.TAB',\n",
       " 'RO-C-MIDAS-5-PRL-TO-EXT3-V1.0/DATA/MID_PARTICLE_TABLE.LBL',\n",
       " 'inventory.txt']"
      ]
     },
     "execution_count": 176,
     "metadata": {},
     "output_type": "execute_result"
    }
   ],
   "source": [
    "r = requests.get(url=catalogue_url)\n",
    "zip = zipfile.ZipFile(BytesIO(r.content))\n",
    "zip.namelist()"
   ]
  },
  {
   "cell_type": "code",
   "execution_count": 177,
   "metadata": {},
   "outputs": [],
   "source": [
    "label_file, data_file = get_lbl_prod(zip)"
   ]
  },
  {
   "cell_type": "markdown",
   "metadata": {},
   "source": [
    "We don't have a good PDS3 reader in python, but here we will use the label to extract the column names and load it into a pandas DataFrame:"
   ]
  },
  {
   "cell_type": "code",
   "execution_count": 178,
   "metadata": {},
   "outputs": [],
   "source": [
    "label = pvl.load(zip.open(label_file))   \n",
    "table_meta = label['PARTICLE_TABLE']\n",
    "\n",
    "# extract the column names from the label file\n",
    "cols = []\n",
    "for item in table_meta:\n",
    "    if item[0] != 'COLUMN':\n",
    "        continue\n",
    "    cols.append(item[1]['NAME'])\n",
    "\n",
    "# read the CSV file\n",
    "catalogue = pd.read_table(zip.open(data_file), sep=',', delim_whitespace=False, names=cols, skiprows=1)\n",
    "\n",
    "# tidy it up a bits\n",
    "for col in catalogue.columns:\n",
    "    if catalogue[col].dtype == 'O':\n",
    "        catalogue[col] = catalogue[col].str.strip()"
   ]
  },
  {
   "cell_type": "code",
   "execution_count": 179,
   "metadata": {},
   "outputs": [
    {
     "data": {
      "text/html": [
       "<div>\n",
       "<style scoped>\n",
       "    .dataframe tbody tr th:only-of-type {\n",
       "        vertical-align: middle;\n",
       "    }\n",
       "\n",
       "    .dataframe tbody tr th {\n",
       "        vertical-align: top;\n",
       "    }\n",
       "\n",
       "    .dataframe thead th {\n",
       "        text-align: right;\n",
       "    }\n",
       "</style>\n",
       "<table border=\"1\" class=\"dataframe\">\n",
       "  <thead>\n",
       "    <tr style=\"text-align: right;\">\n",
       "      <th></th>\n",
       "      <th>PARTICLE_ID</th>\n",
       "      <th>PARTICLE_SCAN_FILE</th>\n",
       "      <th>PARTICLE_MASK_FILE</th>\n",
       "      <th>PRE_SCAN_FILE</th>\n",
       "      <th>PRE_SCAN_FLAG</th>\n",
       "      <th>PARTICLE_FLAG</th>\n",
       "      <th>SCAN_QUALITY_FLAG</th>\n",
       "      <th>MULTIPLE_FRAGMENTS_FLAG</th>\n",
       "      <th>TRUST_HEIGHT_FLAG</th>\n",
       "      <th>PHYSICAL_ALTERATION_FLAG</th>\n",
       "      <th>...</th>\n",
       "      <th>X_SCAN_SIZE</th>\n",
       "      <th>Y_SCAN_SIZE</th>\n",
       "      <th>TIP_NUMBER</th>\n",
       "      <th>TARGET_NUMBER</th>\n",
       "      <th>LAST_TIP_IMAGE_START</th>\n",
       "      <th>ARCHIVE_FILE_LAST_TIP_IMAGE</th>\n",
       "      <th>BOUNDING_BOX_ROW_MIN</th>\n",
       "      <th>BOUNDING_BOX_ROW_MAX</th>\n",
       "      <th>BOUNDING_BOX_COL_MIN</th>\n",
       "      <th>BOUNDING_BOX_COL_MAX</th>\n",
       "    </tr>\n",
       "  </thead>\n",
       "  <tbody>\n",
       "    <tr>\n",
       "      <th>0</th>\n",
       "      <td>2014-11-14T120150_P01_T10</td>\n",
       "      <td>RO-D-MIDAS-3-PRL-SAMPLES-V3.0/IMG_1429710_1432...</td>\n",
       "      <td>RO-D-MIDAS-3-PRL-SAMPLES-V3.0/IMG_1429710_1432...</td>\n",
       "      <td>RO-D-MIDAS-3-PRL-SAMPLES-V3.0/IMG_1429710_1432...</td>\n",
       "      <td>2</td>\n",
       "      <td>1</td>\n",
       "      <td>2</td>\n",
       "      <td>0</td>\n",
       "      <td>1</td>\n",
       "      <td>0</td>\n",
       "      <td>...</td>\n",
       "      <td>80.3</td>\n",
       "      <td>80.3</td>\n",
       "      <td>5</td>\n",
       "      <td>10</td>\n",
       "      <td></td>\n",
       "      <td></td>\n",
       "      <td>0</td>\n",
       "      <td>6</td>\n",
       "      <td>27</td>\n",
       "      <td>32</td>\n",
       "    </tr>\n",
       "    <tr>\n",
       "      <th>1</th>\n",
       "      <td>2014-11-14T120150_P02_T10</td>\n",
       "      <td>RO-D-MIDAS-3-PRL-SAMPLES-V3.0/IMG_1429710_1432...</td>\n",
       "      <td>RO-D-MIDAS-3-PRL-SAMPLES-V3.0/IMG_1429710_1432...</td>\n",
       "      <td>RO-D-MIDAS-3-PRL-SAMPLES-V3.0/IMG_1429710_1432...</td>\n",
       "      <td>2</td>\n",
       "      <td>1</td>\n",
       "      <td>3</td>\n",
       "      <td>0</td>\n",
       "      <td>2</td>\n",
       "      <td>0</td>\n",
       "      <td>...</td>\n",
       "      <td>80.3</td>\n",
       "      <td>80.3</td>\n",
       "      <td>5</td>\n",
       "      <td>10</td>\n",
       "      <td></td>\n",
       "      <td></td>\n",
       "      <td>14</td>\n",
       "      <td>18</td>\n",
       "      <td>0</td>\n",
       "      <td>6</td>\n",
       "    </tr>\n",
       "    <tr>\n",
       "      <th>2</th>\n",
       "      <td>2014-11-14T120150_P03_T10</td>\n",
       "      <td>RO-D-MIDAS-3-PRL-SAMPLES-V3.0/IMG_1429710_1432...</td>\n",
       "      <td>RO-D-MIDAS-3-PRL-SAMPLES-V3.0/IMG_1429710_1432...</td>\n",
       "      <td>RO-D-MIDAS-3-PRL-SAMPLES-V3.0/IMG_1429710_1432...</td>\n",
       "      <td>2</td>\n",
       "      <td>1</td>\n",
       "      <td>3</td>\n",
       "      <td>0</td>\n",
       "      <td>2</td>\n",
       "      <td>0</td>\n",
       "      <td>...</td>\n",
       "      <td>80.3</td>\n",
       "      <td>80.3</td>\n",
       "      <td>5</td>\n",
       "      <td>10</td>\n",
       "      <td></td>\n",
       "      <td></td>\n",
       "      <td>10</td>\n",
       "      <td>30</td>\n",
       "      <td>26</td>\n",
       "      <td>186</td>\n",
       "    </tr>\n",
       "    <tr>\n",
       "      <th>3</th>\n",
       "      <td>2014-11-14T120150_P04_T10</td>\n",
       "      <td>RO-D-MIDAS-3-PRL-SAMPLES-V3.0/IMG_1429710_1432...</td>\n",
       "      <td>RO-D-MIDAS-3-PRL-SAMPLES-V3.0/IMG_1429710_1432...</td>\n",
       "      <td>RO-D-MIDAS-3-PRL-SAMPLES-V3.0/IMG_1429710_1432...</td>\n",
       "      <td>2</td>\n",
       "      <td>1</td>\n",
       "      <td>3</td>\n",
       "      <td>0</td>\n",
       "      <td>2</td>\n",
       "      <td>0</td>\n",
       "      <td>...</td>\n",
       "      <td>80.3</td>\n",
       "      <td>80.3</td>\n",
       "      <td>5</td>\n",
       "      <td>10</td>\n",
       "      <td></td>\n",
       "      <td></td>\n",
       "      <td>31</td>\n",
       "      <td>36</td>\n",
       "      <td>153</td>\n",
       "      <td>164</td>\n",
       "    </tr>\n",
       "    <tr>\n",
       "      <th>4</th>\n",
       "      <td>2014-11-14T120150_P05_T10</td>\n",
       "      <td>RO-D-MIDAS-3-PRL-SAMPLES-V3.0/IMG_1429710_1432...</td>\n",
       "      <td>RO-D-MIDAS-3-PRL-SAMPLES-V3.0/IMG_1429710_1432...</td>\n",
       "      <td>RO-D-MIDAS-3-PRL-SAMPLES-V3.0/IMG_1429710_1432...</td>\n",
       "      <td>2</td>\n",
       "      <td>1</td>\n",
       "      <td>3</td>\n",
       "      <td>0</td>\n",
       "      <td>2</td>\n",
       "      <td>0</td>\n",
       "      <td>...</td>\n",
       "      <td>80.3</td>\n",
       "      <td>80.3</td>\n",
       "      <td>5</td>\n",
       "      <td>10</td>\n",
       "      <td></td>\n",
       "      <td></td>\n",
       "      <td>31</td>\n",
       "      <td>36</td>\n",
       "      <td>0</td>\n",
       "      <td>26</td>\n",
       "    </tr>\n",
       "  </tbody>\n",
       "</table>\n",
       "<p>5 rows × 36 columns</p>\n",
       "</div>"
      ],
      "text/plain": [
       "                 PARTICLE_ID  \\\n",
       "0  2014-11-14T120150_P01_T10   \n",
       "1  2014-11-14T120150_P02_T10   \n",
       "2  2014-11-14T120150_P03_T10   \n",
       "3  2014-11-14T120150_P04_T10   \n",
       "4  2014-11-14T120150_P05_T10   \n",
       "\n",
       "                                  PARTICLE_SCAN_FILE  \\\n",
       "0  RO-D-MIDAS-3-PRL-SAMPLES-V3.0/IMG_1429710_1432...   \n",
       "1  RO-D-MIDAS-3-PRL-SAMPLES-V3.0/IMG_1429710_1432...   \n",
       "2  RO-D-MIDAS-3-PRL-SAMPLES-V3.0/IMG_1429710_1432...   \n",
       "3  RO-D-MIDAS-3-PRL-SAMPLES-V3.0/IMG_1429710_1432...   \n",
       "4  RO-D-MIDAS-3-PRL-SAMPLES-V3.0/IMG_1429710_1432...   \n",
       "\n",
       "                                  PARTICLE_MASK_FILE  \\\n",
       "0  RO-D-MIDAS-3-PRL-SAMPLES-V3.0/IMG_1429710_1432...   \n",
       "1  RO-D-MIDAS-3-PRL-SAMPLES-V3.0/IMG_1429710_1432...   \n",
       "2  RO-D-MIDAS-3-PRL-SAMPLES-V3.0/IMG_1429710_1432...   \n",
       "3  RO-D-MIDAS-3-PRL-SAMPLES-V3.0/IMG_1429710_1432...   \n",
       "4  RO-D-MIDAS-3-PRL-SAMPLES-V3.0/IMG_1429710_1432...   \n",
       "\n",
       "                                       PRE_SCAN_FILE  PRE_SCAN_FLAG  \\\n",
       "0  RO-D-MIDAS-3-PRL-SAMPLES-V3.0/IMG_1429710_1432...              2   \n",
       "1  RO-D-MIDAS-3-PRL-SAMPLES-V3.0/IMG_1429710_1432...              2   \n",
       "2  RO-D-MIDAS-3-PRL-SAMPLES-V3.0/IMG_1429710_1432...              2   \n",
       "3  RO-D-MIDAS-3-PRL-SAMPLES-V3.0/IMG_1429710_1432...              2   \n",
       "4  RO-D-MIDAS-3-PRL-SAMPLES-V3.0/IMG_1429710_1432...              2   \n",
       "\n",
       "   PARTICLE_FLAG  SCAN_QUALITY_FLAG  MULTIPLE_FRAGMENTS_FLAG  \\\n",
       "0              1                  2                        0   \n",
       "1              1                  3                        0   \n",
       "2              1                  3                        0   \n",
       "3              1                  3                        0   \n",
       "4              1                  3                        0   \n",
       "\n",
       "   TRUST_HEIGHT_FLAG  PHYSICAL_ALTERATION_FLAG  ... X_SCAN_SIZE Y_SCAN_SIZE  \\\n",
       "0                  1                         0  ...        80.3        80.3   \n",
       "1                  2                         0  ...        80.3        80.3   \n",
       "2                  2                         0  ...        80.3        80.3   \n",
       "3                  2                         0  ...        80.3        80.3   \n",
       "4                  2                         0  ...        80.3        80.3   \n",
       "\n",
       "   TIP_NUMBER TARGET_NUMBER LAST_TIP_IMAGE_START  ARCHIVE_FILE_LAST_TIP_IMAGE  \\\n",
       "0           5            10                                                     \n",
       "1           5            10                                                     \n",
       "2           5            10                                                     \n",
       "3           5            10                                                     \n",
       "4           5            10                                                     \n",
       "\n",
       "   BOUNDING_BOX_ROW_MIN  BOUNDING_BOX_ROW_MAX  BOUNDING_BOX_COL_MIN  \\\n",
       "0                     0                     6                    27   \n",
       "1                    14                    18                     0   \n",
       "2                    10                    30                    26   \n",
       "3                    31                    36                   153   \n",
       "4                    31                    36                     0   \n",
       "\n",
       "   BOUNDING_BOX_COL_MAX  \n",
       "0                    32  \n",
       "1                     6  \n",
       "2                   186  \n",
       "3                   164  \n",
       "4                    26  \n",
       "\n",
       "[5 rows x 36 columns]"
      ]
     },
     "execution_count": 179,
     "metadata": {},
     "output_type": "execute_result"
    }
   ],
   "source": [
    "catalogue.head()"
   ]
  },
  {
   "cell_type": "markdown",
   "metadata": {},
   "source": [
    "So now we have a **lot** of columns:"
   ]
  },
  {
   "cell_type": "code",
   "execution_count": 180,
   "metadata": {},
   "outputs": [
    {
     "data": {
      "text/plain": [
       "Index(['PARTICLE_ID', 'PARTICLE_SCAN_FILE', 'PARTICLE_MASK_FILE',\n",
       "       'PRE_SCAN_FILE', 'PRE_SCAN_FLAG', 'PARTICLE_FLAG', 'SCAN_QUALITY_FLAG',\n",
       "       'MULTIPLE_FRAGMENTS_FLAG', 'TRUST_HEIGHT_FLAG',\n",
       "       'PHYSICAL_ALTERATION_FLAG', 'LINKED_PARTICLE_ID',\n",
       "       'LINKED_PARTICLE_SCAN', 'LINKED_PARTICLE_FLAG', 'MASTER_PARTICLE_ID',\n",
       "       'MASTER_PARTICLE_SCAN', 'AREA_PIXEL', 'AREA_UM', 'Z_MIN_VALUE',\n",
       "       'Z_MAX_VALUE', 'Z_MEAN_VALUE', 'PARTICLE_HEIGHT', 'PARTICLE_STD_DEV',\n",
       "       'X_STEP_SIZE', 'Y_STEP_SIZE', 'X_SCAN_ORIGIN', 'Y_SCAN_ORIGIN',\n",
       "       'X_SCAN_SIZE', 'Y_SCAN_SIZE', 'TIP_NUMBER', 'TARGET_NUMBER',\n",
       "       'LAST_TIP_IMAGE_START', 'ARCHIVE_FILE_LAST_TIP_IMAGE',\n",
       "       'BOUNDING_BOX_ROW_MIN', 'BOUNDING_BOX_ROW_MAX', 'BOUNDING_BOX_COL_MIN',\n",
       "       'BOUNDING_BOX_COL_MAX'],\n",
       "      dtype='object')"
      ]
     },
     "execution_count": 180,
     "metadata": {},
     "output_type": "execute_result"
    }
   ],
   "source": [
    "catalogue.columns"
   ]
  },
  {
   "cell_type": "markdown",
   "metadata": {},
   "source": [
    "OK, let's find the largest (area) particles in the catalogue:"
   ]
  },
  {
   "cell_type": "code",
   "execution_count": 181,
   "metadata": {},
   "outputs": [
    {
     "data": {
      "text/html": [
       "<div>\n",
       "<style scoped>\n",
       "    .dataframe tbody tr th:only-of-type {\n",
       "        vertical-align: middle;\n",
       "    }\n",
       "\n",
       "    .dataframe tbody tr th {\n",
       "        vertical-align: top;\n",
       "    }\n",
       "\n",
       "    .dataframe thead th {\n",
       "        text-align: right;\n",
       "    }\n",
       "</style>\n",
       "<table border=\"1\" class=\"dataframe\">\n",
       "  <thead>\n",
       "    <tr style=\"text-align: right;\">\n",
       "      <th></th>\n",
       "      <th>PARTICLE_SCAN_FILE</th>\n",
       "      <th>AREA_UM</th>\n",
       "    </tr>\n",
       "  </thead>\n",
       "  <tbody>\n",
       "    <tr>\n",
       "      <th>660</th>\n",
       "      <td>RO-C-MIDAS-3-EXT2-SAMPLES-V3.0/IMG_1612423_161...</td>\n",
       "      <td>4473.801</td>\n",
       "    </tr>\n",
       "    <tr>\n",
       "      <th>664</th>\n",
       "      <td>RO-C-MIDAS-3-EXT2-SAMPLES-V3.0/IMG_1612423_161...</td>\n",
       "      <td>2151.731</td>\n",
       "    </tr>\n",
       "    <tr>\n",
       "      <th>1037</th>\n",
       "      <td>RO-C-MIDAS-3-EXT2-SAMPLES-V3.0/IMG_1615223_161...</td>\n",
       "      <td>2116.979</td>\n",
       "    </tr>\n",
       "    <tr>\n",
       "      <th>656</th>\n",
       "      <td>RO-C-MIDAS-3-EXT2-SAMPLES-V3.0/IMG_1612423_161...</td>\n",
       "      <td>1853.348</td>\n",
       "    </tr>\n",
       "    <tr>\n",
       "      <th>601</th>\n",
       "      <td>RO-C-MIDAS-3-EXT2-SAMPLES-V3.0/IMG_1609623_161...</td>\n",
       "      <td>1721.125</td>\n",
       "    </tr>\n",
       "  </tbody>\n",
       "</table>\n",
       "</div>"
      ],
      "text/plain": [
       "                                     PARTICLE_SCAN_FILE   AREA_UM\n",
       "660   RO-C-MIDAS-3-EXT2-SAMPLES-V3.0/IMG_1612423_161...  4473.801\n",
       "664   RO-C-MIDAS-3-EXT2-SAMPLES-V3.0/IMG_1612423_161...  2151.731\n",
       "1037  RO-C-MIDAS-3-EXT2-SAMPLES-V3.0/IMG_1615223_161...  2116.979\n",
       "656   RO-C-MIDAS-3-EXT2-SAMPLES-V3.0/IMG_1612423_161...  1853.348\n",
       "601   RO-C-MIDAS-3-EXT2-SAMPLES-V3.0/IMG_1609623_161...  1721.125"
      ]
     },
     "execution_count": 181,
     "metadata": {},
     "output_type": "execute_result"
    }
   ],
   "source": [
    "catalogue.sort_values(by='AREA_UM', ascending=False)[['PARTICLE_SCAN_FILE', 'AREA_UM']].head(5)"
   ]
  },
  {
   "cell_type": "markdown",
   "metadata": {},
   "source": [
    "Let's see if we can retrieve the scan of the largest particle    "
   ]
  },
  {
   "cell_type": "code",
   "execution_count": 182,
   "metadata": {},
   "outputs": [
    {
     "data": {
      "text/plain": [
       "PARTICLE_ID                                            2016-05-08T174029_P01_T13\n",
       "PARTICLE_SCAN_FILE             RO-C-MIDAS-3-EXT2-SAMPLES-V3.0/IMG_1612423_161...\n",
       "PARTICLE_MASK_FILE             RO-C-MIDAS-3-EXT2-SAMPLES-V3.0/IMG_1612423_161...\n",
       "PRE_SCAN_FILE                                                                   \n",
       "PRE_SCAN_FLAG                                                                  0\n",
       "PARTICLE_FLAG                                                                  1\n",
       "SCAN_QUALITY_FLAG                                                              2\n",
       "MULTIPLE_FRAGMENTS_FLAG                                                        0\n",
       "TRUST_HEIGHT_FLAG                                                              2\n",
       "PHYSICAL_ALTERATION_FLAG                                                       0\n",
       "LINKED_PARTICLE_ID                                                              \n",
       "LINKED_PARTICLE_SCAN                                                            \n",
       "LINKED_PARTICLE_FLAG                                                           0\n",
       "MASTER_PARTICLE_ID                                     2016-05-08T174029_P01_T13\n",
       "MASTER_PARTICLE_SCAN           RO-C-MIDAS-3-EXT2-SAMPLES-V3.0/IMG_1612423_161...\n",
       "AREA_PIXEL                                                                  5069\n",
       "AREA_UM                                                                   4473.8\n",
       "Z_MIN_VALUE                                                                 0.55\n",
       "Z_MAX_VALUE                                                                9.326\n",
       "Z_MEAN_VALUE                                                                3.77\n",
       "PARTICLE_HEIGHT                                                             7.91\n",
       "PARTICLE_STD_DEV                                                            1.09\n",
       "X_STEP_SIZE                                                               835.23\n",
       "Y_STEP_SIZE                                                               833.33\n",
       "X_SCAN_ORIGIN                                                              -40.1\n",
       "Y_SCAN_ORIGIN                                                            -328.17\n",
       "X_SCAN_SIZE                                                                80.18\n",
       "Y_SCAN_SIZE                                                                   80\n",
       "TIP_NUMBER                                                                     1\n",
       "TARGET_NUMBER                                                                 13\n",
       "LAST_TIP_IMAGE_START                                     2016-05-07T15:36:34.036\n",
       "ARCHIVE_FILE_LAST_TIP_IMAGE    RO-C-MIDAS-3-EXT2-SAMPLES-V3.0/IMG_1612423_161...\n",
       "BOUNDING_BOX_ROW_MIN                                                           0\n",
       "BOUNDING_BOX_ROW_MAX                                                          96\n",
       "BOUNDING_BOX_COL_MIN                                                           0\n",
       "BOUNDING_BOX_COL_MAX                                                          96\n",
       "Name: 660, dtype: object"
      ]
     },
     "execution_count": 182,
     "metadata": {},
     "output_type": "execute_result"
    }
   ],
   "source": [
    "largest = catalogue.sort_values(by='AREA_UM', ascending=False).iloc[0]\n",
    "largest"
   ]
  },
  {
   "cell_type": "code",
   "execution_count": 183,
   "metadata": {},
   "outputs": [],
   "source": [
    "largest_id = largest['PARTICLE_SCAN_FILE']"
   ]
  },
  {
   "cell_type": "markdown",
   "metadata": {},
   "source": [
    "We need to convert the dataset and product ID from the catalogue into the granule UID  used in EPN-TAP:"
   ]
  },
  {
   "cell_type": "code",
   "execution_count": 184,
   "metadata": {},
   "outputs": [
    {
     "data": {
      "text/plain": [
       "'RO-C-MIDAS-3-EXT2-SAMPLES-V3.0:DATA:IMG_1612423_1615300_019_ZS'"
      ]
     },
     "execution_count": 184,
     "metadata": {},
     "output_type": "execute_result"
    }
   ],
   "source": [
    "largest_uid = largest_id.split('/')[0] + ':DATA:' + largest_id.split('/')[1]\n",
    "largest_uid"
   ]
  },
  {
   "cell_type": "markdown",
   "metadata": {},
   "source": [
    "Now we can check if this product exists in the archive:"
   ]
  },
  {
   "cell_type": "code",
   "execution_count": 185,
   "metadata": {},
   "outputs": [
    {
     "data": {
      "text/html": [
       "<i>Table masked=True length=1</i>\n",
       "<table id=\"table140302405877712\" class=\"table-striped table-bordered table-condensed\">\n",
       "<thead><tr><th>access_estsize</th><th>access_format</th><th>access_url</th><th>c1max</th><th>c1min</th><th>c1_resol_max</th><th>c1_resol_min</th><th>c2max</th><th>c2min</th><th>c2_resol_max</th><th>c2_resol_min</th><th>c3max</th><th>c3min</th><th>c3_resol_max</th><th>c3_resol_min</th><th>creation_date</th><th>dataproduct_type</th><th>emergence_max</th><th>emergence_min</th><th>granule_gid</th><th>granule_uid</th><th>incidence_max</th><th>incidence_min</th><th>instrument_host_name</th><th>instrument_name</th><th>measurement_type</th><th>modification_date</th><th>obs_id</th><th>phase_max</th><th>phase_min</th><th>processing_level</th><th>release_date</th><th>service_title</th><th>spatial_frame_type</th><th>spectral_range_max</th><th>spectral_range_min</th><th>spectral_resolution_max</th><th>spectral_resolution_min</th><th>spectral_sampling_step_max</th><th>spectral_sampling_step_min</th><th>s_region</th><th>target_class</th><th>target_name</th><th>thumbnail_url</th><th>time_exp_max</th><th>time_exp_min</th><th>time_max</th><th>time_min</th><th>time_sampling_step_max</th><th>time_sampling_step_min</th></tr></thead>\n",
       "<thead><tr><th></th><th></th><th></th><th>deg</th><th>deg</th><th>deg</th><th>deg</th><th>deg</th><th>deg</th><th>deg</th><th>deg</th><th>deg</th><th>deg</th><th>deg</th><th>deg</th><th></th><th></th><th>deg</th><th>deg</th><th></th><th></th><th>deg</th><th>deg</th><th></th><th></th><th></th><th></th><th></th><th>deg</th><th>deg</th><th></th><th></th><th></th><th></th><th>Hz</th><th>Hz</th><th>Hz</th><th>Hz</th><th>Hz</th><th>Hz</th><th></th><th></th><th></th><th></th><th>s</th><th>s</th><th>d</th><th>d</th><th>s</th><th>s</th></tr></thead>\n",
       "<thead><tr><th>int32</th><th>object</th><th>object</th><th>float64</th><th>float64</th><th>float64</th><th>float64</th><th>float64</th><th>float64</th><th>float64</th><th>float64</th><th>float64</th><th>float64</th><th>float64</th><th>float64</th><th>object</th><th>object</th><th>float64</th><th>float64</th><th>object</th><th>object</th><th>float64</th><th>float64</th><th>object</th><th>object</th><th>object</th><th>object</th><th>object</th><th>float64</th><th>float64</th><th>int32</th><th>object</th><th>object</th><th>object</th><th>float64</th><th>float64</th><th>float64</th><th>float64</th><th>float64</th><th>float64</th><th>object</th><th>object</th><th>object</th><th>object</th><th>float64</th><th>float64</th><th>float64</th><th>float64</th><th>float64</th><th>float64</th></tr></thead>\n",
       "<tr><td>27084</td><td>application/x-pds-zip</td><td>https://archives.esac.esa.int/psa/pdap/download?CLIENT=epntap&amp;RESOURCE_CLASS=PRODUCT&amp;ID=RO-C-MIDAS-3-EXT2-SAMPLES-V3.0:DATA:IMG_1612423_1615300_019_ZS</td><td>--</td><td>--</td><td>--</td><td>--</td><td>--</td><td>--</td><td>--</td><td>--</td><td>--</td><td>--</td><td>--</td><td>--</td><td>2019-04-07T14:25:26.19741</td><td>ci</td><td>--</td><td>--</td><td>RO-C-MIDAS-3-EXT2-SAMPLES-V3.0:DATA</td><td>RO-C-MIDAS-3-EXT2-SAMPLES-V3.0:DATA:IMG_1612423_1615300_019_ZS</td><td>--</td><td>--</td><td>Rosetta</td><td>MIDAS</td><td></td><td>2019-04-07T14:25:26.19741</td><td>RO-C-MIDAS-3-EXT2-SAMPLES-V3.0:DATA:IMG_1612423_1615300_019_ZS</td><td>--</td><td>--</td><td>5</td><td>2019-03-15T00:00:00.0</td><td>psa</td><td>none</td><td>--</td><td>--</td><td>--</td><td>--</td><td>--</td><td>--</td><td></td><td>comet</td><td>67P</td><td>https://archives.esac.esa.int/psa/pdap/fileaccess?ID=INTERNATIONALsROSETTAsMISSION/RO-C-MIDAS-3-EXT2-SAMPLES-V3.0/BROWSE/PRV_1612423_1615300_019_ZS.JPG</td><td>--</td><td>--</td><td>2457517.5056305323</td><td>2457517.2364522107</td><td>--</td><td>--</td></tr>\n",
       "</table>"
      ],
      "text/plain": [
       "<Table masked=True length=1>\n",
       "access_estsize     access_format     ... time_sampling_step_min\n",
       "                                     ...           s           \n",
       "    int32              object        ...        float64        \n",
       "-------------- --------------------- ... ----------------------\n",
       "         27084 application/x-pds-zip ...                     --"
      ]
     },
     "execution_count": 185,
     "metadata": {},
     "output_type": "execute_result"
    }
   ],
   "source": [
    "query = \"SELECT * FROM epn_core WHERE granule_uid='%s'\" % largest_uid\n",
    "data = psa.launch_job(query).get_data()\n",
    "data"
   ]
  },
  {
   "cell_type": "markdown",
   "metadata": {},
   "source": [
    "So we have a single product - let's look at the browse product for this:"
   ]
  },
  {
   "cell_type": "code",
   "execution_count": 186,
   "metadata": {},
   "outputs": [
    {
     "data": {
      "text/html": [
       "<img src=\"https://archives.esac.esa.int/psa/pdap/fileaccess?ID=INTERNATIONALsROSETTAsMISSION/RO-C-MIDAS-3-EXT2-SAMPLES-V3.0/BROWSE/PRV_1612423_1615300_019_ZS.JPG\"/>"
      ],
      "text/plain": [
       "<IPython.core.display.Image object>"
      ]
     },
     "execution_count": 186,
     "metadata": {},
     "output_type": "execute_result"
    }
   ],
   "source": [
    "thumbnail_url = data['thumbnail_url'].data[0].decode('utf-8')\n",
    "Image(url=thumbnail_url)"
   ]
  },
  {
   "cell_type": "markdown",
   "metadata": {},
   "source": [
    "OK, interesting... what parts of this image did the MIDAS team classify as a particle? We can look for a corresponding particle mask, also provided by the team. This is refered to in the catalogue in the column PARTICLE_MASK_FILE."
   ]
  },
  {
   "cell_type": "code",
   "execution_count": 187,
   "metadata": {},
   "outputs": [
    {
     "data": {
      "text/plain": [
       "'RO-C-MIDAS-3-EXT2-SAMPLES-V3.0/IMG_1612423_1615300_019_MK'"
      ]
     },
     "execution_count": 187,
     "metadata": {},
     "output_type": "execute_result"
    }
   ],
   "source": [
    "mask_id = largest.PARTICLE_MASK_FILE\n",
    "mask_id"
   ]
  },
  {
   "cell_type": "code",
   "execution_count": 188,
   "metadata": {},
   "outputs": [
    {
     "data": {
      "text/plain": [
       "'RO-C-MIDAS-3-EXT2-SAMPLES-V3.0:DATA:IMG_1612423_1615300_019_MK'"
      ]
     },
     "execution_count": 188,
     "metadata": {},
     "output_type": "execute_result"
    }
   ],
   "source": [
    "mask_uid = mask_id.split('/')[0] + ':DATA:' + mask_id.split('/')[1]\n",
    "mask_uid"
   ]
  },
  {
   "cell_type": "markdown",
   "metadata": {},
   "source": [
    "Now we can use our new plotting function above to test this:"
   ]
  },
  {
   "cell_type": "code",
   "execution_count": 189,
   "metadata": {},
   "outputs": [
    {
     "data": {
      "image/png": "[encoded data removed]",
      "text/plain": [
       "<Figure size 1008x720 with 2 Axes>"
      ]
     },
     "metadata": {
      "needs_background": "light"
     },
     "output_type": "display_data"
    }
   ],
   "source": [
    "plot_by_uid(mask_uid, psa)"
   ]
  },
  {
   "cell_type": "markdown",
   "metadata": {},
   "source": [
    "OK, one last thing - let's see what the particle catalogue can tell us about the distribution or parameters of dust particles collected on target 14 during this probably outburst collection."
   ]
  },
  {
   "cell_type": "code",
   "execution_count": 193,
   "metadata": {},
   "outputs": [
    {
     "data": {
      "text/plain": [
       "970"
      ]
     },
     "execution_count": 193,
     "metadata": {},
     "output_type": "execute_result"
    }
   ],
   "source": [
    "tar14_pcles = catalogue[ catalogue.TARGET_NUMBER==13 ]\n",
    "len(tar14_pcles)"
   ]
  },
  {
   "cell_type": "code",
   "execution_count": 198,
   "metadata": {},
   "outputs": [
    {
     "data": {
      "text/plain": [
       "count     970.000000\n",
       "mean       48.567837\n",
       "std       211.520728\n",
       "min         0.112000\n",
       "25%         3.964000\n",
       "50%         9.911000\n",
       "75%        26.190500\n",
       "max      4473.801000\n",
       "Name: AREA_UM, dtype: float64"
      ]
     },
     "execution_count": 198,
     "metadata": {},
     "output_type": "execute_result"
    }
   ],
   "source": [
    "tar14_pcles.AREA_UM.describe()"
   ]
  },
  {
   "cell_type": "code",
   "execution_count": 199,
   "metadata": {},
   "outputs": [
    {
     "data": {
      "text/plain": [
       "count    970.000000\n",
       "mean       1.745701\n",
       "std        1.511075\n",
       "min        0.000000\n",
       "25%        0.720000\n",
       "50%        1.240000\n",
       "75%        2.332500\n",
       "max        9.270000\n",
       "Name: PARTICLE_HEIGHT, dtype: float64"
      ]
     },
     "execution_count": 199,
     "metadata": {},
     "output_type": "execute_result"
    }
   ],
   "source": [
    "tar14_pcles.PARTICLE_HEIGHT.describe()"
   ]
  },
  {
   "cell_type": "code",
   "execution_count": null,
   "metadata": {},
   "outputs": [],
   "source": []
  }
 ],
 "metadata": {
  "kernelspec": {
   "display_name": "psa",
   "language": "python",
   "name": "psa"
  },
  "language_info": {
   "codemirror_mode": {
    "name": "ipython",
    "version": 3
   },
   "file_extension": ".py",
   "mimetype": "text/x-python",
   "name": "python",
   "nbconvert_exporter": "python",
   "pygments_lexer": "ipython3",
   "version": "3.6.8"
  },
  "toc": {
   "nav_menu": {},
   "number_sections": true,
   "sideBar": true,
   "skip_h1_title": false,
   "toc_cell": false,
   "toc_position": {},
   "toc_section_display": "block",
   "toc_window_display": true
  }
 },
 "nbformat": 4,
 "nbformat_minor": 2
}
