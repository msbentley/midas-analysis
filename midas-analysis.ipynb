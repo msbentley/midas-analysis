{
 "cells": [
  {
   "cell_type": "code",
   "execution_count": 1,
   "metadata": {},
   "outputs": [],
   "source": [
    "import zipfile, struct, warnings, requests, struct\n",
    "from io import StringIO, BytesIO\n",
    "\n",
    "import numpy as np\n",
    "import pandas as pd\n",
    "import matplotlib\n",
    "import matplotlib.pyplot as plt\n",
    "\n",
    "import astropy\n",
    "from astropy.io.votable import parse_single_table\n",
    "from astroquery.utils.tap.core import TapPlus\n",
    "import pvl\n",
    "\n",
    "# from plotly.offline import iplot, init_notebook_mode\n",
    "import plotly.graph_objs as go\n",
    "# import plotly\n",
    "# init_notebook_mode()\n",
    "\n",
    "from IPython.display import Image, display\n",
    "\n",
    "%matplotlib inline\n",
    "warnings.simplefilter('ignore')"
   ]
  },
  {
   "cell_type": "markdown",
   "metadata": {},
   "source": [
    "# MIDAS data analysis with the PSA and EPN-TAP"
   ]
  },
  {
   "cell_type": "markdown",
   "metadata": {},
   "source": [
    "## EPN-TAP"
   ]
  },
  {
   "cell_type": "markdown",
   "metadata": {},
   "source": [
    "EPN-TAP is the Europlanet extension of the Table Access Protocol (TAP) commonly used to query data in astronomical archives. The PSA supports EPN-TAP, although with a limited number of fields populated - this will improve, at least for geometry, in the coming months. \n",
    "\n",
    "First we have to make a connection to the server:"
   ]
  },
  {
   "cell_type": "code",
   "execution_count": 2,
   "metadata": {},
   "outputs": [
    {
     "name": "stdout",
     "output_type": "stream",
     "text": [
      "Created TAP+ (v1.0.1) - Connection:\n",
      "\tHost: archives.esac.esa.int\n",
      "\tUse HTTPS: True\n",
      "\tPort: 443\n",
      "\tSSL Port: 443\n"
     ]
    }
   ],
   "source": [
    "tap_url = 'https://archives.esac.esa.int/psa/epn-tap/tap/'\n",
    "psa = TapPlus(url=tap_url)"
   ]
  },
  {
   "cell_type": "markdown",
   "metadata": {},
   "source": [
    "EPN-TAP uses a SQL-like language to query the database. A simple first query is to count the number of rows (=number of products):"
   ]
  },
  {
   "cell_type": "code",
   "execution_count": 3,
   "metadata": {},
   "outputs": [
    {
     "name": "stdout",
     "output_type": "stream",
     "text": [
      "Number of products in the PSA: 8848192\n"
     ]
    }
   ],
   "source": [
    "query = 'SELECT COUNT(1) from epn_core'\n",
    "result = psa.launch_job(query).get_data()\n",
    "print('Number of products in the PSA: {:d}'.format(result['count'][0]))"
   ]
  },
  {
   "cell_type": "markdown",
   "metadata": {},
   "source": [
    "Equally there is an column giving the estimatez size of each product, which we can sum to get the size of the archive. This is only the size of the latest product for those (PDS4) products that have multiple versions:"
   ]
  },
  {
   "cell_type": "code",
   "execution_count": 4,
   "metadata": {},
   "outputs": [
    {
     "name": "stdout",
     "output_type": "stream",
     "text": [
      "Total size of PSA (GB): 51.038188\n"
     ]
    }
   ],
   "source": [
    "query = 'SELECT SUM(access_estsize) from epn_core' \n",
    "result = psa.launch_job(query).get_data() # in kbyte\n",
    "print('Total size of PSA (GB): {:f}'.format(result['sum'][0]/1024./1024./1024.))"
   ]
  },
  {
   "cell_type": "markdown",
   "metadata": {},
   "source": [
    "You can also query selected columns, and order them - for example here we list the top 10 largest products:"
   ]
  },
  {
   "cell_type": "code",
   "execution_count": 5,
   "metadata": {},
   "outputs": [
    {
     "data": {
      "text/html": [
       "<i>Table masked=True length=10</i>\n",
       "<table id=\"table140394763172608\" class=\"table-striped table-bordered table-condensed\">\n",
       "<thead><tr><th>granule_uid</th><th>access_estsize</th></tr></thead>\n",
       "<thead><tr><th>object</th><th>int32</th></tr></thead>\n",
       "<tr><td>urn:esa:psa:em16_tgo_acs:data_raw:acs_raw_sc_mir_20160414t023000-20160414t025700-c-0-6</td><td>165414637</td></tr>\n",
       "<tr><td>urn:esa:psa:em16_tgo_acs:data_raw:acs_raw_sc_mir_20160414t033000-20160414t035700-c-0-7</td><td>165233465</td></tr>\n",
       "<tr><td>urn:esa:psa:em16_tgo_acs:data_raw:acs_raw_sc_tir_20161126t015500-20161126t024700-10-9</td><td>125029063</td></tr>\n",
       "<tr><td>urn:esa:psa:em16_tgo_acs:data_raw:acs_raw_sc_tir_20161126t031300-20161126t040500-10-10</td><td>124966100</td></tr>\n",
       "<tr><td>urn:esa:psa:em16_tgo_acs:data_raw:acs_raw_sc_tir_20170305t233321-20170306t065000-50-3</td><td>102403605</td></tr>\n",
       "<tr><td>urn:esa:psa:em16_tgo_acs:data_raw:acs_raw_sc_tir_20170301t230000-20170302t020000-46-2</td><td>95586863</td></tr>\n",
       "<tr><td>urn:esa:psa:em16_tgo_acs:data_raw:acs_raw_sc_tir_20160614t005100-20160614t014200-0-1</td><td>84912674</td></tr>\n",
       "<tr><td>urn:esa:psa:em16_tgo_acs:data_raw:acs_raw_sc_tir_20161122t145745-20161122t192620-9-3</td><td>67186534</td></tr>\n",
       "<tr><td>urn:esa:psa:em16_tgo_acs:data_raw:acs_raw_sc_tir_20170305t192400-20170305t233311-50-2</td><td>62398895</td></tr>\n",
       "<tr><td>urn:esa:psa:em16_tgo_acs:data_raw:acs_raw_sc_mir_20161125t013000-20161125t020000-c-10-1</td><td>56533849</td></tr>\n",
       "</table>"
      ],
      "text/plain": [
       "<Table masked=True length=10>\n",
       "                                      granule_uid                                       ...\n",
       "                                         object                                         ...\n",
       "--------------------------------------------------------------------------------------- ...\n",
       " urn:esa:psa:em16_tgo_acs:data_raw:acs_raw_sc_mir_20160414t023000-20160414t025700-c-0-6 ...\n",
       " urn:esa:psa:em16_tgo_acs:data_raw:acs_raw_sc_mir_20160414t033000-20160414t035700-c-0-7 ...\n",
       "  urn:esa:psa:em16_tgo_acs:data_raw:acs_raw_sc_tir_20161126t015500-20161126t024700-10-9 ...\n",
       " urn:esa:psa:em16_tgo_acs:data_raw:acs_raw_sc_tir_20161126t031300-20161126t040500-10-10 ...\n",
       "  urn:esa:psa:em16_tgo_acs:data_raw:acs_raw_sc_tir_20170305t233321-20170306t065000-50-3 ...\n",
       "  urn:esa:psa:em16_tgo_acs:data_raw:acs_raw_sc_tir_20170301t230000-20170302t020000-46-2 ...\n",
       "   urn:esa:psa:em16_tgo_acs:data_raw:acs_raw_sc_tir_20160614t005100-20160614t014200-0-1 ...\n",
       "   urn:esa:psa:em16_tgo_acs:data_raw:acs_raw_sc_tir_20161122t145745-20161122t192620-9-3 ...\n",
       "  urn:esa:psa:em16_tgo_acs:data_raw:acs_raw_sc_tir_20170305t192400-20170305t233311-50-2 ...\n",
       "urn:esa:psa:em16_tgo_acs:data_raw:acs_raw_sc_mir_20161125t013000-20161125t020000-c-10-1 ..."
      ]
     },
     "execution_count": 5,
     "metadata": {},
     "output_type": "execute_result"
    }
   ],
   "source": [
    "query = 'SELECT TOP 10 granule_uid, access_estsize from epn_core WHERE access_estsize IS NOT NULL ORDER BY access_estsize DESC'\n",
    "result = psa.launch_job(query).get_data()\n",
    "result"
   ]
  },
  {
   "cell_type": "markdown",
   "metadata": {
    "slideshow": {
     "slide_type": "slide"
    }
   },
   "source": [
    "# MIDAS data\n",
    "- MIDAS was an Atomic Force Microscope on Rosetta\n",
    "- Query and extract data into pandas as before"
   ]
  },
  {
   "cell_type": "code",
   "execution_count": 6,
   "metadata": {},
   "outputs": [
    {
     "name": "stdout",
     "output_type": "stream",
     "text": [
      "Number of returned products: 2000\n"
     ]
    },
    {
     "data": {
      "text/html": [
       "<div>\n",
       "<style scoped>\n",
       "    .dataframe tbody tr th:only-of-type {\n",
       "        vertical-align: middle;\n",
       "    }\n",
       "\n",
       "    .dataframe tbody tr th {\n",
       "        vertical-align: top;\n",
       "    }\n",
       "\n",
       "    .dataframe thead th {\n",
       "        text-align: right;\n",
       "    }\n",
       "</style>\n",
       "<table border=\"1\" class=\"dataframe\">\n",
       "  <thead>\n",
       "    <tr style=\"text-align: right;\">\n",
       "      <th></th>\n",
       "      <th>access_estsize</th>\n",
       "      <th>access_format</th>\n",
       "      <th>access_url</th>\n",
       "      <th>c1max</th>\n",
       "      <th>c1min</th>\n",
       "      <th>c1_resol_max</th>\n",
       "      <th>c1_resol_min</th>\n",
       "      <th>c2max</th>\n",
       "      <th>c2min</th>\n",
       "      <th>c2_resol_max</th>\n",
       "      <th>...</th>\n",
       "      <th>s_region</th>\n",
       "      <th>target_class</th>\n",
       "      <th>target_name</th>\n",
       "      <th>thumbnail_url</th>\n",
       "      <th>time_exp_max</th>\n",
       "      <th>time_exp_min</th>\n",
       "      <th>time_max</th>\n",
       "      <th>time_min</th>\n",
       "      <th>time_sampling_step_max</th>\n",
       "      <th>time_sampling_step_min</th>\n",
       "    </tr>\n",
       "  </thead>\n",
       "  <tbody>\n",
       "    <tr>\n",
       "      <th>0</th>\n",
       "      <td>686</td>\n",
       "      <td>application/x-pds-zip</td>\n",
       "      <td>https://archives.esac.esa.int/psa/pdap/downloa...</td>\n",
       "      <td>NaN</td>\n",
       "      <td>NaN</td>\n",
       "      <td>NaN</td>\n",
       "      <td>NaN</td>\n",
       "      <td>NaN</td>\n",
       "      <td>NaN</td>\n",
       "      <td>NaN</td>\n",
       "      <td>...</td>\n",
       "      <td></td>\n",
       "      <td>comet</td>\n",
       "      <td>67P</td>\n",
       "      <td></td>\n",
       "      <td>NaN</td>\n",
       "      <td>NaN</td>\n",
       "      <td>2.457038e+06</td>\n",
       "      <td>2.457038e+06</td>\n",
       "      <td>NaN</td>\n",
       "      <td>NaN</td>\n",
       "    </tr>\n",
       "    <tr>\n",
       "      <th>1</th>\n",
       "      <td>686</td>\n",
       "      <td>application/x-pds-zip</td>\n",
       "      <td>https://archives.esac.esa.int/psa/pdap/downloa...</td>\n",
       "      <td>NaN</td>\n",
       "      <td>NaN</td>\n",
       "      <td>NaN</td>\n",
       "      <td>NaN</td>\n",
       "      <td>NaN</td>\n",
       "      <td>NaN</td>\n",
       "      <td>NaN</td>\n",
       "      <td>...</td>\n",
       "      <td></td>\n",
       "      <td>comet</td>\n",
       "      <td>67P</td>\n",
       "      <td></td>\n",
       "      <td>NaN</td>\n",
       "      <td>NaN</td>\n",
       "      <td>2.457038e+06</td>\n",
       "      <td>2.457038e+06</td>\n",
       "      <td>NaN</td>\n",
       "      <td>NaN</td>\n",
       "    </tr>\n",
       "    <tr>\n",
       "      <th>2</th>\n",
       "      <td>25225</td>\n",
       "      <td>application/x-pds-zip</td>\n",
       "      <td>https://archives.esac.esa.int/psa/pdap/downloa...</td>\n",
       "      <td>NaN</td>\n",
       "      <td>NaN</td>\n",
       "      <td>NaN</td>\n",
       "      <td>NaN</td>\n",
       "      <td>NaN</td>\n",
       "      <td>NaN</td>\n",
       "      <td>NaN</td>\n",
       "      <td>...</td>\n",
       "      <td></td>\n",
       "      <td>comet</td>\n",
       "      <td>67P</td>\n",
       "      <td></td>\n",
       "      <td>NaN</td>\n",
       "      <td>NaN</td>\n",
       "      <td>2.457092e+06</td>\n",
       "      <td>2.456983e+06</td>\n",
       "      <td>NaN</td>\n",
       "      <td>NaN</td>\n",
       "    </tr>\n",
       "    <tr>\n",
       "      <th>3</th>\n",
       "      <td>25225</td>\n",
       "      <td>application/x-pds-zip</td>\n",
       "      <td>https://archives.esac.esa.int/psa/pdap/downloa...</td>\n",
       "      <td>NaN</td>\n",
       "      <td>NaN</td>\n",
       "      <td>NaN</td>\n",
       "      <td>NaN</td>\n",
       "      <td>NaN</td>\n",
       "      <td>NaN</td>\n",
       "      <td>NaN</td>\n",
       "      <td>...</td>\n",
       "      <td></td>\n",
       "      <td>comet</td>\n",
       "      <td>67P</td>\n",
       "      <td></td>\n",
       "      <td>NaN</td>\n",
       "      <td>NaN</td>\n",
       "      <td>2.457092e+06</td>\n",
       "      <td>2.456983e+06</td>\n",
       "      <td>NaN</td>\n",
       "      <td>NaN</td>\n",
       "    </tr>\n",
       "    <tr>\n",
       "      <th>4</th>\n",
       "      <td>25225</td>\n",
       "      <td>application/x-pds-zip</td>\n",
       "      <td>https://archives.esac.esa.int/psa/pdap/downloa...</td>\n",
       "      <td>NaN</td>\n",
       "      <td>NaN</td>\n",
       "      <td>NaN</td>\n",
       "      <td>NaN</td>\n",
       "      <td>NaN</td>\n",
       "      <td>NaN</td>\n",
       "      <td>NaN</td>\n",
       "      <td>...</td>\n",
       "      <td></td>\n",
       "      <td>comet</td>\n",
       "      <td>67P</td>\n",
       "      <td></td>\n",
       "      <td>NaN</td>\n",
       "      <td>NaN</td>\n",
       "      <td>2.457092e+06</td>\n",
       "      <td>2.456983e+06</td>\n",
       "      <td>NaN</td>\n",
       "      <td>NaN</td>\n",
       "    </tr>\n",
       "  </tbody>\n",
       "</table>\n",
       "<p>5 rows × 50 columns</p>\n",
       "</div>"
      ],
      "text/plain": [
       "   access_estsize          access_format  \\\n",
       "0             686  application/x-pds-zip   \n",
       "1             686  application/x-pds-zip   \n",
       "2           25225  application/x-pds-zip   \n",
       "3           25225  application/x-pds-zip   \n",
       "4           25225  application/x-pds-zip   \n",
       "\n",
       "                                          access_url  c1max  c1min  \\\n",
       "0  https://archives.esac.esa.int/psa/pdap/downloa...    NaN    NaN   \n",
       "1  https://archives.esac.esa.int/psa/pdap/downloa...    NaN    NaN   \n",
       "2  https://archives.esac.esa.int/psa/pdap/downloa...    NaN    NaN   \n",
       "3  https://archives.esac.esa.int/psa/pdap/downloa...    NaN    NaN   \n",
       "4  https://archives.esac.esa.int/psa/pdap/downloa...    NaN    NaN   \n",
       "\n",
       "   c1_resol_max  c1_resol_min  c2max  c2min  c2_resol_max  ...  s_region  \\\n",
       "0           NaN           NaN    NaN    NaN           NaN  ...             \n",
       "1           NaN           NaN    NaN    NaN           NaN  ...             \n",
       "2           NaN           NaN    NaN    NaN           NaN  ...             \n",
       "3           NaN           NaN    NaN    NaN           NaN  ...             \n",
       "4           NaN           NaN    NaN    NaN           NaN  ...             \n",
       "\n",
       "   target_class  target_name  thumbnail_url  time_exp_max time_exp_min  \\\n",
       "0         comet          67P                          NaN          NaN   \n",
       "1         comet          67P                          NaN          NaN   \n",
       "2         comet          67P                          NaN          NaN   \n",
       "3         comet          67P                          NaN          NaN   \n",
       "4         comet          67P                          NaN          NaN   \n",
       "\n",
       "       time_max      time_min  time_sampling_step_max time_sampling_step_min  \n",
       "0  2.457038e+06  2.457038e+06                     NaN                    NaN  \n",
       "1  2.457038e+06  2.457038e+06                     NaN                    NaN  \n",
       "2  2.457092e+06  2.456983e+06                     NaN                    NaN  \n",
       "3  2.457092e+06  2.456983e+06                     NaN                    NaN  \n",
       "4  2.457092e+06  2.456983e+06                     NaN                    NaN  \n",
       "\n",
       "[5 rows x 50 columns]"
      ]
     },
     "execution_count": 6,
     "metadata": {},
     "output_type": "execute_result"
    }
   ],
   "source": [
    "query = \"SELECT * FROM epn_core WHERE target_name='67P' AND instrument_name='MIDAS'\"\n",
    "data = psa.launch_job(query).get_data().to_pandas()\n",
    "\n",
    "str_df = data.select_dtypes([np.object])\n",
    "str_df = str_df.stack().str.decode('utf-8').unstack()\n",
    "for col in str_df:\n",
    "    data[col] = str_df[col]\n",
    "    \n",
    "print('Number of returned products: {:d}'.format(len(data)))\n",
    "data.head()"
   ]
  },
  {
   "cell_type": "markdown",
   "metadata": {},
   "source": [
    "The 2k limit on products here is the limit in AstroQuery for synchronous queries - to get more products we could switch to an asynchronous query..."
   ]
  },
  {
   "cell_type": "markdown",
   "metadata": {},
   "source": [
    "Each MIDAS product is described by a three-letter acronym at the start. You can read more about the archiving conventions here: http://pdssbn.astro.umd.edu/holdings/ro-c-midas-3-esc2-samples-v1.0/document/mid_eaicd.pdf. If you want to get really technical you can also look at the User Manual [http://pdssbn.astro.umd.edu/holdings/ro-c-midas-3-esc2-samples-v1.0/document/mid_user.pdf].\n",
    "\n",
    "MIDAS images all start with IMG and the two letters at the end of the product name describe the image channels used - the most useful is ZS, which is the topographic channel. So we'll add some new colums to allow us to select the data type and channel, and filter to just those:"
   ]
  },
  {
   "cell_type": "markdown",
   "metadata": {},
   "source": [
    "Here we will first try to grab an image used in this paper (Figure 3):"
   ]
  },
  {
   "cell_type": "code",
   "execution_count": 7,
   "metadata": {},
   "outputs": [
    {
     "data": {
      "image/jpeg": "[encoded data removed]",
      "text/plain": [
       "<IPython.core.display.Image object>"
      ]
     },
     "execution_count": 7,
     "metadata": {},
     "output_type": "execute_result"
    }
   ],
   "source": [
    "Image(url='https://media.nature.com/full/nature-assets/nature/journal/v537/n7618/images/nature19091-st1.jpg', embed=True)"
   ]
  },
  {
   "cell_type": "markdown",
   "metadata": {},
   "source": [
    "The EPN-TAP date column returns a Julian date, so we will have to convert the values in the table to that format"
   ]
  },
  {
   "cell_type": "code",
   "execution_count": 8,
   "metadata": {},
   "outputs": [],
   "source": [
    "fig1_start = pd.Timestamp('2015-01-18 20:59:28Z') \n",
    "fig1_duration = pd.Timedelta(hours=11, minutes=16, seconds=30)\n",
    "fig1_end = fig1_start + fig1_duration"
   ]
  },
  {
   "cell_type": "code",
   "execution_count": 9,
   "metadata": {},
   "outputs": [
    {
     "data": {
      "text/plain": [
       "(Timestamp('2015-01-18 20:59:28+0000', tz='UTC'),\n",
       " Timestamp('2015-01-19 08:15:58+0000', tz='UTC'))"
      ]
     },
     "execution_count": 9,
     "metadata": {},
     "output_type": "execute_result"
    }
   ],
   "source": [
    "fig1_start, fig1_end"
   ]
  },
  {
   "cell_type": "markdown",
   "metadata": {},
   "source": [
    "We will add a small delta to each end of the window to avoid any rounding issues"
   ]
  },
  {
   "cell_type": "code",
   "execution_count": 10,
   "metadata": {},
   "outputs": [],
   "source": [
    "fig1_start -= pd.Timedelta(minutes=1)\n",
    "fig1_end += pd.Timedelta(minutes=1)"
   ]
  },
  {
   "cell_type": "code",
   "execution_count": 11,
   "metadata": {},
   "outputs": [
    {
     "data": {
      "text/plain": [
       "(2457041.3739351854, 2457041.845115741)"
      ]
     },
     "execution_count": 11,
     "metadata": {},
     "output_type": "execute_result"
    }
   ],
   "source": [
    "fig1_start.to_julian_date(), fig1_end.to_julian_date()"
   ]
  },
  {
   "cell_type": "code",
   "execution_count": 12,
   "metadata": {},
   "outputs": [
    {
     "data": {
      "text/plain": [
       "6"
      ]
     },
     "execution_count": 12,
     "metadata": {},
     "output_type": "execute_result"
    }
   ],
   "source": [
    "query = \"SELECT * FROM epn_core WHERE target_name='67P' AND instrument_name='MIDAS' AND time_min>'%s' AND time_max<'%s'\" % (fig1_start.to_julian_date(), fig1_end.to_julian_date())\n",
    "data = psa.launch_job(query).get_data().to_pandas()\n",
    "\n",
    "str_df = data.select_dtypes([np.object])\n",
    "str_df = str_df.stack().str.decode('utf-8').unstack()\n",
    "for col in str_df:\n",
    "    data[col] = str_df[col]\n",
    "    \n",
    "len(data)"
   ]
  },
  {
   "cell_type": "markdown",
   "metadata": {},
   "source": [
    "If we want to convert back to UTC time to check, we can do it like this:"
   ]
  },
  {
   "cell_type": "code",
   "execution_count": 13,
   "metadata": {},
   "outputs": [
    {
     "data": {
      "text/plain": [
       "Timestamp('2015-01-18 20:59:28.073990400')"
      ]
     },
     "execution_count": 13,
     "metadata": {},
     "output_type": "execute_result"
    }
   ],
   "source": [
    "pd.to_datetime(data.time_min.iloc[0], origin='julian', unit='D')"
   ]
  },
  {
   "cell_type": "markdown",
   "metadata": {
    "slideshow": {
     "slide_type": "slide"
    }
   },
   "source": [
    "## MIDAS specific filtering of products\n"
   ]
  },
  {
   "cell_type": "code",
   "execution_count": 14,
   "metadata": {
    "slideshow": {
     "slide_type": "slide"
    }
   },
   "outputs": [
    {
     "data": {
      "text/plain": [
       "array(['IMG', 'LIN'], dtype=object)"
      ]
     },
     "execution_count": 14,
     "metadata": {},
     "output_type": "execute_result"
    }
   ],
   "source": [
    "data['product_id'] = data.granule_uid.apply( lambda uid: uid.split(':')[-1])\n",
    "data['data_type'] = pd.Series(data.product_id.apply( lambda prod: prod[0:3] ), name='data_type')\n",
    "data.data_type.unique()"
   ]
  },
  {
   "cell_type": "markdown",
   "metadata": {
    "slideshow": {
     "slide_type": "fragment"
    }
   },
   "source": [
    "We are interested in the IMG files here:"
   ]
  },
  {
   "cell_type": "code",
   "execution_count": 15,
   "metadata": {
    "slideshow": {
     "slide_type": "fragment"
    }
   },
   "outputs": [
    {
     "data": {
      "text/plain": [
       "2"
      ]
     },
     "execution_count": 15,
     "metadata": {},
     "output_type": "execute_result"
    }
   ],
   "source": [
    "images = data[ data.data_type=='IMG' ].copy()\n",
    "images['channel'] = images.product_id.apply( lambda prod: prod[-2:] )\n",
    "images = images[ images.channel=='ZS' ]\n",
    "len(images)"
   ]
  },
  {
   "cell_type": "markdown",
   "metadata": {},
   "source": [
    "Let's check the product IDs (last part of ther UID) - in fact let's make a column containing that:"
   ]
  },
  {
   "cell_type": "code",
   "execution_count": 16,
   "metadata": {},
   "outputs": [],
   "source": [
    "images['product_id'] = images.granule_uid.apply(lambda x: x.split(':')[-1])"
   ]
  },
  {
   "cell_type": "markdown",
   "metadata": {},
   "source": [
    "Now let's see the data set and product IDs for these two hits:"
   ]
  },
  {
   "cell_type": "code",
   "execution_count": 17,
   "metadata": {},
   "outputs": [
    {
     "data": {
      "text/html": [
       "<div>\n",
       "<style scoped>\n",
       "    .dataframe tbody tr th:only-of-type {\n",
       "        vertical-align: middle;\n",
       "    }\n",
       "\n",
       "    .dataframe tbody tr th {\n",
       "        vertical-align: top;\n",
       "    }\n",
       "\n",
       "    .dataframe thead th {\n",
       "        text-align: right;\n",
       "    }\n",
       "</style>\n",
       "<table border=\"1\" class=\"dataframe\">\n",
       "  <thead>\n",
       "    <tr style=\"text-align: right;\">\n",
       "      <th></th>\n",
       "      <th>granule_gid</th>\n",
       "      <th>product_id</th>\n",
       "    </tr>\n",
       "  </thead>\n",
       "  <tbody>\n",
       "    <tr>\n",
       "      <th>1</th>\n",
       "      <td>RO-C-MIDAS-3-ESC1-SAMPLES-V3.0:DATA</td>\n",
       "      <td>IMG_1501323_1504200_013_ZS</td>\n",
       "    </tr>\n",
       "    <tr>\n",
       "      <th>5</th>\n",
       "      <td>RO-C-MIDAS-5-PRL-TO-EXT3-V1.0:DATA</td>\n",
       "      <td>IMG_1501323_1504200_013_ZS</td>\n",
       "    </tr>\n",
       "  </tbody>\n",
       "</table>\n",
       "</div>"
      ],
      "text/plain": [
       "                           granule_gid                  product_id\n",
       "1  RO-C-MIDAS-3-ESC1-SAMPLES-V3.0:DATA  IMG_1501323_1504200_013_ZS\n",
       "5   RO-C-MIDAS-5-PRL-TO-EXT3-V1.0:DATA  IMG_1501323_1504200_013_ZS"
      ]
     },
     "execution_count": 17,
     "metadata": {},
     "output_type": "execute_result"
    }
   ],
   "source": [
    "images[['granule_gid', 'product_id']]"
   ]
  },
  {
   "cell_type": "markdown",
   "metadata": {},
   "source": [
    "Ahh, so it's the same product, but in twoi different datasets - one raw data and one derived. We'll look at the original one (used in the paper above)"
   ]
  },
  {
   "cell_type": "code",
   "execution_count": 18,
   "metadata": {},
   "outputs": [
    {
     "data": {
      "text/plain": [
       "access_estsize                                                            27127\n",
       "access_format                                             application/x-pds-zip\n",
       "access_url                    https://archives.esac.esa.int/psa/pdap/downloa...\n",
       "c1max                                                                       NaN\n",
       "c1min                                                                       NaN\n",
       "c1_resol_max                                                                NaN\n",
       "c1_resol_min                                                                NaN\n",
       "c2max                                                                       NaN\n",
       "c2min                                                                       NaN\n",
       "c2_resol_max                                                                NaN\n",
       "c2_resol_min                                                                NaN\n",
       "c3max                                                                       NaN\n",
       "c3min                                                                       NaN\n",
       "c3_resol_max                                                                NaN\n",
       "c3_resol_min                                                                NaN\n",
       "creation_date                                        2019-03-20T13:46:13.259419\n",
       "dataproduct_type                                                             ci\n",
       "emergence_max                                                               NaN\n",
       "emergence_min                                                               NaN\n",
       "granule_gid                                 RO-C-MIDAS-3-ESC1-SAMPLES-V3.0:DATA\n",
       "granule_uid                   RO-C-MIDAS-3-ESC1-SAMPLES-V3.0:DATA:IMG_150132...\n",
       "incidence_max                                                               NaN\n",
       "incidence_min                                                               NaN\n",
       "instrument_host_name                                                    Rosetta\n",
       "instrument_name                                                           MIDAS\n",
       "measurement_type                                                               \n",
       "modification_date                                    2019-03-20T13:46:13.259419\n",
       "obs_id                        RO-C-MIDAS-3-ESC1-SAMPLES-V3.0:DATA:IMG_150132...\n",
       "phase_max                                                                   NaN\n",
       "phase_min                                                                   NaN\n",
       "processing_level                                                              5\n",
       "release_date                                              2019-03-15T00:00:00.0\n",
       "service_title                                                               psa\n",
       "spatial_frame_type                                                         none\n",
       "spectral_range_max                                                          NaN\n",
       "spectral_range_min                                                          NaN\n",
       "spectral_resolution_max                                                     NaN\n",
       "spectral_resolution_min                                                     NaN\n",
       "spectral_sampling_step_max                                                  NaN\n",
       "spectral_sampling_step_min                                                  NaN\n",
       "s_region                                                                       \n",
       "target_class                                                              comet\n",
       "target_name                                                                 67P\n",
       "thumbnail_url                 https://archives.esac.esa.int/psa/pdap/fileacc...\n",
       "time_exp_max                                                                NaN\n",
       "time_exp_min                                                                NaN\n",
       "time_max                                                            2.45704e+06\n",
       "time_min                                                            2.45704e+06\n",
       "time_sampling_step_max                                                      NaN\n",
       "time_sampling_step_min                                                      NaN\n",
       "product_id                                           IMG_1501323_1504200_013_ZS\n",
       "data_type                                                                   IMG\n",
       "channel                                                                      ZS\n",
       "Name: 1, dtype: object"
      ]
     },
     "execution_count": 18,
     "metadata": {},
     "output_type": "execute_result"
    }
   ],
   "source": [
    "image = images.loc[1]\n",
    "image"
   ]
  },
  {
   "cell_type": "markdown",
   "metadata": {},
   "source": [
    "Hmm, there are lots of \"NaN\" values because many fields in the PSA's EPN-TAP database have not been populated. But there is a thumbnail_url - let's look at that:"
   ]
  },
  {
   "cell_type": "code",
   "execution_count": 19,
   "metadata": {},
   "outputs": [
    {
     "data": {
      "text/plain": [
       "'https://archives.esac.esa.int/psa/pdap/fileaccess?ID=INTERNATIONALsROSETTAsMISSION/RO-C-MIDAS-3-ESC1-SAMPLES-V3.0/BROWSE/PRV_1501323_1504200_013_ZS.JPG'"
      ]
     },
     "execution_count": 19,
     "metadata": {},
     "output_type": "execute_result"
    }
   ],
   "source": [
    "image.thumbnail_url"
   ]
  },
  {
   "cell_type": "markdown",
   "metadata": {},
   "source": [
    "So it's a simple JPG that we can probably view:"
   ]
  },
  {
   "cell_type": "code",
   "execution_count": 20,
   "metadata": {},
   "outputs": [
    {
     "data": {
      "text/html": [
       "<img src=\"https://archives.esac.esa.int/psa/pdap/fileaccess?ID=INTERNATIONALsROSETTAsMISSION/RO-C-MIDAS-3-ESC1-SAMPLES-V3.0/BROWSE/PRV_1501323_1504200_013_ZS.JPG\"/>"
      ],
      "text/plain": [
       "<IPython.core.display.Image object>"
      ]
     },
     "execution_count": 20,
     "metadata": {},
     "output_type": "execute_result"
    }
   ],
   "source": [
    "Image(url=image.thumbnail_url)"
   ]
  },
  {
   "cell_type": "markdown",
   "metadata": {},
   "source": [
    "As well as a thumbnail URL, the database entry points to how we can download the actual data:"
   ]
  },
  {
   "cell_type": "code",
   "execution_count": 21,
   "metadata": {},
   "outputs": [
    {
     "data": {
      "text/plain": [
       "'https://archives.esac.esa.int/psa/pdap/download?CLIENT=epntap&RESOURCE_CLASS=PRODUCT&ID=RO-C-MIDAS-3-ESC1-SAMPLES-V3.0:DATA:IMG_1501323_1504200_013_ZS'"
      ]
     },
     "execution_count": 21,
     "metadata": {},
     "output_type": "execute_result"
    }
   ],
   "source": [
    "image.access_url"
   ]
  },
  {
   "cell_type": "code",
   "execution_count": 22,
   "metadata": {
    "slideshow": {
     "slide_type": "fragment"
    }
   },
   "outputs": [
    {
     "data": {
      "text/plain": [
       "['RO-C-MIDAS-3-ESC1-SAMPLES-V3.0/BROWSE/PRV_1501323_1504200_013_ZS.JPG',\n",
       " 'RO-C-MIDAS-3-ESC1-SAMPLES-V3.0/DATA/IMG/IMG_1501323_1504200_013_ZS.IMG',\n",
       " 'RO-C-MIDAS-3-ESC1-SAMPLES-V3.0/DATA/IMG/IMG_1501323_1504200_013_ZS.LBL',\n",
       " 'RO-C-MIDAS-3-ESC1-SAMPLES-V3.0/DOCUMENT/MID_TIP_IMAGES.PDF',\n",
       " 'RO-C-MIDAS-3-ESC1-SAMPLES-V3.0/BROWSE/PRV_1501323_1504200_013_ZS.LBL',\n",
       " 'RO-C-MIDAS-3-ESC1-SAMPLES-V3.0/DOCUMENT/MID_EAICD.PDF',\n",
       " 'RO-C-MIDAS-3-ESC1-SAMPLES-V3.0/DOCUMENT/MID_CALIBRATION.PDF',\n",
       " 'inventory.txt']"
      ]
     },
     "execution_count": 22,
     "metadata": {},
     "output_type": "execute_result"
    }
   ],
   "source": [
    "r = requests.get(url=image.access_url)\n",
    "zip = zipfile.ZipFile(BytesIO(r.content))\n",
    "zip.namelist()"
   ]
  },
  {
   "cell_type": "markdown",
   "metadata": {},
   "source": [
    "This zip contains quite a lot of information, since it automatically includes documents of relevance. For now we just want the image file and label in the data directory:"
   ]
  },
  {
   "cell_type": "code",
   "execution_count": 23,
   "metadata": {
    "slideshow": {
     "slide_type": "fragment"
    }
   },
   "outputs": [],
   "source": [
    "label_file = [filename for filename in zip.namelist() if (filename.endswith('.LBL') and filename.split('/')[1]=='DATA')][0]\n",
    "data_file = [filename for filename in zip.namelist() if (filename.endswith('.IMG') and filename.split('/')[1]=='DATA')][0]"
   ]
  },
  {
   "cell_type": "code",
   "execution_count": 24,
   "metadata": {},
   "outputs": [
    {
     "data": {
      "text/plain": [
       "('RO-C-MIDAS-3-ESC1-SAMPLES-V3.0/DATA/IMG/IMG_1501323_1504200_013_ZS.LBL',\n",
       " 'RO-C-MIDAS-3-ESC1-SAMPLES-V3.0/DATA/IMG/IMG_1501323_1504200_013_ZS.IMG')"
      ]
     },
     "execution_count": 24,
     "metadata": {},
     "output_type": "execute_result"
    }
   ],
   "source": [
    "label_file, data_file"
   ]
  },
  {
   "cell_type": "markdown",
   "metadata": {},
   "source": [
    "The label file is a PDS3 label in a format called PVL - there is a library for this so we can load and parse the label:"
   ]
  },
  {
   "cell_type": "code",
   "execution_count": 25,
   "metadata": {},
   "outputs": [],
   "source": [
    "label = pvl.load(zip.open(label_file))"
   ]
  },
  {
   "cell_type": "markdown",
   "metadata": {},
   "source": [
    "The raw data file we will just read into memory to process later:"
   ]
  },
  {
   "cell_type": "code",
   "execution_count": 26,
   "metadata": {},
   "outputs": [],
   "source": [
    "rawdata = zip.open(data_file).read()"
   ]
  },
  {
   "cell_type": "markdown",
   "metadata": {
    "slideshow": {
     "slide_type": "slide"
    }
   },
   "source": [
    "Now we need to know a bit more - if you browse the label more carefully you can see that the .IMG file contains two parts - an ASCII header with a fixed length of 2048 bytes, and some binary data. "
   ]
  },
  {
   "cell_type": "code",
   "execution_count": 27,
   "metadata": {
    "slideshow": {
     "slide_type": "fragment"
    }
   },
   "outputs": [],
   "source": [
    "offset = label['BCR_HEADER']['BYTES']\n",
    "zcal = float(label['BCR_IMAGE']['SCALING_FACTOR'])\n",
    "xpix = int(label['BCR_IMAGE']['LINE_SAMPLES'])\n",
    "ypix = int(label['BCR_IMAGE']['LINES'])\n",
    "xpix_m = float(label['HORIZONTAL_PIXEL_SCALE'])\n",
    "ypix_m = float(label['VERTICAL_PIXEL_SCALE'])\n",
    "xlen_nm = xpix_m * xpix * 1.e9\n",
    "ylen_nm = ypix_m * xpix * 1.e9\n",
    "length = xpix * ypix"
   ]
  },
  {
   "cell_type": "markdown",
   "metadata": {
    "slideshow": {
     "slide_type": "slide"
    }
   },
   "source": [
    "Data are stored as little-endian signed integers - simply read them using the struct module, re-shape according to the label data, rescale so that zero is the minimum and multiply by the Z (height) calibration factor."
   ]
  },
  {
   "cell_type": "code",
   "execution_count": 28,
   "metadata": {
    "slideshow": {
     "slide_type": "fragment"
    }
   },
   "outputs": [],
   "source": [
    "data = np.array(struct.unpack('<%dh'%length, rawdata[offset:]), dtype=np.float)\n",
    "data = data.reshape(xpix,ypix)\n",
    "data -= data.min()\n",
    "data *= zcal"
   ]
  },
  {
   "cell_type": "code",
   "execution_count": 29,
   "metadata": {
    "code_folding": [],
    "slideshow": {
     "slide_type": "slide"
    }
   },
   "outputs": [
    {
     "data": {
      "image/png": "[encoded data removed]",
      "text/plain": [
       "<Figure size 1008x720 with 2 Axes>"
      ]
     },
     "metadata": {
      "needs_background": "light"
     },
     "output_type": "display_data"
    }
   ],
   "source": [
    "# Now plot it! First with Matplotlib:\n",
    "fig, ax = plt.subplots(figsize=(14,10))\n",
    "extent = [0., xlen_nm, 0., ylen_nm]\n",
    "im = ax.imshow(data, interpolation='nearest', extent=extent, cmap=plt.cm.afmhot)\n",
    "cbar = plt.colorbar(im)\n",
    "plt.setp(ax.get_xticklabels(), rotation=45)\n",
    "ax.set_xlabel('x (nm)')\n",
    "ax.set_ylabel('y (nm)')\n",
    "cbar.set_label('z (nm)')"
   ]
  },
  {
   "cell_type": "markdown",
   "metadata": {},
   "source": [
    "Great, this looks like the preview image above! We can also display in 3D and interactive using plotly:"
   ]
  },
  {
   "cell_type": "code",
   "execution_count": 30,
   "metadata": {
    "code_folding": [],
    "slideshow": {
     "slide_type": "slide"
    }
   },
   "outputs": [
    {
     "data": {
      "application/vnd.jupyter.widget-view+json": {
       "model_id": "a434f29ff2ea496883afd65de758e608",
       "version_major": 2,
       "version_minor": 0
      },
      "text/plain": [
       "FigureWidget({\n",
       "    'data': [{'type': 'surface',\n",
       "              'uid': '1172c96c-6382-45e0-bcdd-2461946b4c3b',\n",
       " …"
      ]
     },
     "metadata": {},
     "output_type": "display_data"
    }
   ],
   "source": [
    "xvals = np.linspace(0., xlen_nm, num=xpix)\n",
    "yvals = np.linspace(0., ylen_nm, num=ypix)\n",
    "xs, ys = np.meshgrid(xvals, yvals)\n",
    "img_data = [ go.Surface(x=xs, y=ys, z=data/100.) ]\n",
    "layout = go.Layout(title=image.product_id, autosize=True, width=800, height=550, margin=dict(l=65, r=50, b=65, t=90), scene = dict(aspectmode='data'))\n",
    "go.FigureWidget(data=img_data, layout=layout)#, config={'showLink': False, 'displaylogo': False, 'modeBarButtonsToRemove': ['sendDataToCloud']})"
   ]
  },
  {
   "cell_type": "code",
   "execution_count": 31,
   "metadata": {},
   "outputs": [
    {
     "data": {
      "application/vnd.jupyter.widget-view+json": {
       "model_id": "df29acdbd0914c44bd0c9a54f9fc0f97",
       "version_major": 2,
       "version_minor": 0
      },
      "text/plain": [
       "FigureWidget({\n",
       "    'data': [{'type': 'bar',\n",
       "              'uid': 'f0955939-3a96-4dec-97ef-70430b7a0e48',\n",
       "     …"
      ]
     },
     "metadata": {},
     "output_type": "display_data"
    }
   ],
   "source": [
    "\n",
    "data = [go.Bar(\n",
    "            x=['giraffes', 'orangutans', 'monkeys'],\n",
    "            y=[20, 14, 23]\n",
    "    )]\n",
    "layout = {'yaxis': {'range': [0, 25]}}\n",
    "fig = go.FigureWidget(data, layout)\n",
    "fig"
   ]
  },
  {
   "cell_type": "markdown",
   "metadata": {},
   "source": [
    "## The particle catalogue"
   ]
  },
  {
   "cell_type": "code",
   "execution_count": 32,
   "metadata": {},
   "outputs": [],
   "source": [
    "prod_id = 'MID_PARTICLE_TABLE'"
   ]
  },
  {
   "cell_type": "code",
   "execution_count": 33,
   "metadata": {},
   "outputs": [],
   "source": [
    "query = \"SELECT * FROM epn_core WHERE instrument_name='MIDAS' AND GRANULE_UID LIKE '%MID_PARTICLE_TABLE'\"\n",
    "data = psa.launch_job(query).get_data()"
   ]
  },
  {
   "cell_type": "code",
   "execution_count": 34,
   "metadata": {},
   "outputs": [],
   "source": [
    "catalogue_url = data['access_url'].data[0]"
   ]
  },
  {
   "cell_type": "code",
   "execution_count": 35,
   "metadata": {},
   "outputs": [
    {
     "data": {
      "text/plain": [
       "['RO-C-MIDAS-5-PRL-TO-EXT3-V1.0/DATA/MID_PARTICLE_TABLE.TAB',\n",
       " 'RO-C-MIDAS-5-PRL-TO-EXT3-V1.0/DATA/MID_PARTICLE_TABLE.LBL',\n",
       " 'inventory.txt']"
      ]
     },
     "execution_count": 35,
     "metadata": {},
     "output_type": "execute_result"
    }
   ],
   "source": [
    "r = requests.get(url=catalogue_url)\n",
    "zip = zipfile.ZipFile(BytesIO(r.content))\n",
    "zip.namelist()"
   ]
  },
  {
   "cell_type": "code",
   "execution_count": 36,
   "metadata": {},
   "outputs": [],
   "source": [
    "label_file = [filename for filename in zip.namelist() if (filename.endswith('.LBL') and filename.split('/')[1]=='DATA')][0]\n",
    "data_file = [filename for filename in zip.namelist() if (filename.endswith('.TAB') and filename.split('/')[1]=='DATA')][0]"
   ]
  },
  {
   "cell_type": "code",
   "execution_count": 37,
   "metadata": {},
   "outputs": [
    {
     "data": {
      "text/plain": [
       "('RO-C-MIDAS-5-PRL-TO-EXT3-V1.0/DATA/MID_PARTICLE_TABLE.LBL',\n",
       " 'RO-C-MIDAS-5-PRL-TO-EXT3-V1.0/DATA/MID_PARTICLE_TABLE.TAB')"
      ]
     },
     "execution_count": 37,
     "metadata": {},
     "output_type": "execute_result"
    }
   ],
   "source": [
    "label_file, data_file"
   ]
  },
  {
   "cell_type": "code",
   "execution_count": 38,
   "metadata": {},
   "outputs": [],
   "source": [
    "label = pvl.load(zip.open(label_file))   \n",
    "table_meta = label['PARTICLE_TABLE']\n",
    "\n",
    "# extract the column names from the label file\n",
    "cols = []\n",
    "for item in table_meta:\n",
    "    if item[0] != 'COLUMN':\n",
    "        continue\n",
    "    cols.append(item[1]['NAME'])\n",
    "\n",
    "# read the CSV file\n",
    "catalogue = pd.read_table(zip.open(data_file), sep=',', delim_whitespace=False, names=cols, skiprows=1)\n",
    "\n",
    "# tidy it up a bits\n",
    "for col in catalogue.columns:\n",
    "    if catalogue[col].dtype == 'O':\n",
    "        catalogue[col] = catalogue[col].str.strip()"
   ]
  },
  {
   "cell_type": "code",
   "execution_count": 39,
   "metadata": {},
   "outputs": [
    {
     "data": {
      "text/html": [
       "<div>\n",
       "<style scoped>\n",
       "    .dataframe tbody tr th:only-of-type {\n",
       "        vertical-align: middle;\n",
       "    }\n",
       "\n",
       "    .dataframe tbody tr th {\n",
       "        vertical-align: top;\n",
       "    }\n",
       "\n",
       "    .dataframe thead th {\n",
       "        text-align: right;\n",
       "    }\n",
       "</style>\n",
       "<table border=\"1\" class=\"dataframe\">\n",
       "  <thead>\n",
       "    <tr style=\"text-align: right;\">\n",
       "      <th></th>\n",
       "      <th>PARTICLE_ID</th>\n",
       "      <th>PARTICLE_SCAN_FILE</th>\n",
       "      <th>PARTICLE_MASK_FILE</th>\n",
       "      <th>PRE_SCAN_FILE</th>\n",
       "      <th>PRE_SCAN_FLAG</th>\n",
       "      <th>PARTICLE_FLAG</th>\n",
       "      <th>SCAN_QUALITY_FLAG</th>\n",
       "      <th>MULTIPLE_FRAGMENTS_FLAG</th>\n",
       "      <th>TRUST_HEIGHT_FLAG</th>\n",
       "      <th>PHYSICAL_ALTERATION_FLAG</th>\n",
       "      <th>...</th>\n",
       "      <th>X_SCAN_SIZE</th>\n",
       "      <th>Y_SCAN_SIZE</th>\n",
       "      <th>TIP_NUMBER</th>\n",
       "      <th>TARGET_NUMBER</th>\n",
       "      <th>LAST_TIP_IMAGE_START</th>\n",
       "      <th>ARCHIVE_FILE_LAST_TIP_IMAGE</th>\n",
       "      <th>BOUNDING_BOX_ROW_MIN</th>\n",
       "      <th>BOUNDING_BOX_ROW_MAX</th>\n",
       "      <th>BOUNDING_BOX_COL_MIN</th>\n",
       "      <th>BOUNDING_BOX_COL_MAX</th>\n",
       "    </tr>\n",
       "  </thead>\n",
       "  <tbody>\n",
       "    <tr>\n",
       "      <th>0</th>\n",
       "      <td>2014-11-14T120150_P01_T10</td>\n",
       "      <td>RO-D-MIDAS-3-PRL-SAMPLES-V3.0/IMG_1429710_1432...</td>\n",
       "      <td>RO-D-MIDAS-3-PRL-SAMPLES-V3.0/IMG_1429710_1432...</td>\n",
       "      <td>RO-D-MIDAS-3-PRL-SAMPLES-V3.0/IMG_1429710_1432...</td>\n",
       "      <td>2</td>\n",
       "      <td>1</td>\n",
       "      <td>2</td>\n",
       "      <td>0</td>\n",
       "      <td>1</td>\n",
       "      <td>0</td>\n",
       "      <td>...</td>\n",
       "      <td>80.3</td>\n",
       "      <td>80.3</td>\n",
       "      <td>5</td>\n",
       "      <td>10</td>\n",
       "      <td></td>\n",
       "      <td></td>\n",
       "      <td>0</td>\n",
       "      <td>6</td>\n",
       "      <td>27</td>\n",
       "      <td>32</td>\n",
       "    </tr>\n",
       "    <tr>\n",
       "      <th>1</th>\n",
       "      <td>2014-11-14T120150_P02_T10</td>\n",
       "      <td>RO-D-MIDAS-3-PRL-SAMPLES-V3.0/IMG_1429710_1432...</td>\n",
       "      <td>RO-D-MIDAS-3-PRL-SAMPLES-V3.0/IMG_1429710_1432...</td>\n",
       "      <td>RO-D-MIDAS-3-PRL-SAMPLES-V3.0/IMG_1429710_1432...</td>\n",
       "      <td>2</td>\n",
       "      <td>1</td>\n",
       "      <td>3</td>\n",
       "      <td>0</td>\n",
       "      <td>2</td>\n",
       "      <td>0</td>\n",
       "      <td>...</td>\n",
       "      <td>80.3</td>\n",
       "      <td>80.3</td>\n",
       "      <td>5</td>\n",
       "      <td>10</td>\n",
       "      <td></td>\n",
       "      <td></td>\n",
       "      <td>14</td>\n",
       "      <td>18</td>\n",
       "      <td>0</td>\n",
       "      <td>6</td>\n",
       "    </tr>\n",
       "    <tr>\n",
       "      <th>2</th>\n",
       "      <td>2014-11-14T120150_P03_T10</td>\n",
       "      <td>RO-D-MIDAS-3-PRL-SAMPLES-V3.0/IMG_1429710_1432...</td>\n",
       "      <td>RO-D-MIDAS-3-PRL-SAMPLES-V3.0/IMG_1429710_1432...</td>\n",
       "      <td>RO-D-MIDAS-3-PRL-SAMPLES-V3.0/IMG_1429710_1432...</td>\n",
       "      <td>2</td>\n",
       "      <td>1</td>\n",
       "      <td>3</td>\n",
       "      <td>0</td>\n",
       "      <td>2</td>\n",
       "      <td>0</td>\n",
       "      <td>...</td>\n",
       "      <td>80.3</td>\n",
       "      <td>80.3</td>\n",
       "      <td>5</td>\n",
       "      <td>10</td>\n",
       "      <td></td>\n",
       "      <td></td>\n",
       "      <td>10</td>\n",
       "      <td>30</td>\n",
       "      <td>26</td>\n",
       "      <td>186</td>\n",
       "    </tr>\n",
       "    <tr>\n",
       "      <th>3</th>\n",
       "      <td>2014-11-14T120150_P04_T10</td>\n",
       "      <td>RO-D-MIDAS-3-PRL-SAMPLES-V3.0/IMG_1429710_1432...</td>\n",
       "      <td>RO-D-MIDAS-3-PRL-SAMPLES-V3.0/IMG_1429710_1432...</td>\n",
       "      <td>RO-D-MIDAS-3-PRL-SAMPLES-V3.0/IMG_1429710_1432...</td>\n",
       "      <td>2</td>\n",
       "      <td>1</td>\n",
       "      <td>3</td>\n",
       "      <td>0</td>\n",
       "      <td>2</td>\n",
       "      <td>0</td>\n",
       "      <td>...</td>\n",
       "      <td>80.3</td>\n",
       "      <td>80.3</td>\n",
       "      <td>5</td>\n",
       "      <td>10</td>\n",
       "      <td></td>\n",
       "      <td></td>\n",
       "      <td>31</td>\n",
       "      <td>36</td>\n",
       "      <td>153</td>\n",
       "      <td>164</td>\n",
       "    </tr>\n",
       "    <tr>\n",
       "      <th>4</th>\n",
       "      <td>2014-11-14T120150_P05_T10</td>\n",
       "      <td>RO-D-MIDAS-3-PRL-SAMPLES-V3.0/IMG_1429710_1432...</td>\n",
       "      <td>RO-D-MIDAS-3-PRL-SAMPLES-V3.0/IMG_1429710_1432...</td>\n",
       "      <td>RO-D-MIDAS-3-PRL-SAMPLES-V3.0/IMG_1429710_1432...</td>\n",
       "      <td>2</td>\n",
       "      <td>1</td>\n",
       "      <td>3</td>\n",
       "      <td>0</td>\n",
       "      <td>2</td>\n",
       "      <td>0</td>\n",
       "      <td>...</td>\n",
       "      <td>80.3</td>\n",
       "      <td>80.3</td>\n",
       "      <td>5</td>\n",
       "      <td>10</td>\n",
       "      <td></td>\n",
       "      <td></td>\n",
       "      <td>31</td>\n",
       "      <td>36</td>\n",
       "      <td>0</td>\n",
       "      <td>26</td>\n",
       "    </tr>\n",
       "  </tbody>\n",
       "</table>\n",
       "<p>5 rows × 36 columns</p>\n",
       "</div>"
      ],
      "text/plain": [
       "                 PARTICLE_ID  \\\n",
       "0  2014-11-14T120150_P01_T10   \n",
       "1  2014-11-14T120150_P02_T10   \n",
       "2  2014-11-14T120150_P03_T10   \n",
       "3  2014-11-14T120150_P04_T10   \n",
       "4  2014-11-14T120150_P05_T10   \n",
       "\n",
       "                                  PARTICLE_SCAN_FILE  \\\n",
       "0  RO-D-MIDAS-3-PRL-SAMPLES-V3.0/IMG_1429710_1432...   \n",
       "1  RO-D-MIDAS-3-PRL-SAMPLES-V3.0/IMG_1429710_1432...   \n",
       "2  RO-D-MIDAS-3-PRL-SAMPLES-V3.0/IMG_1429710_1432...   \n",
       "3  RO-D-MIDAS-3-PRL-SAMPLES-V3.0/IMG_1429710_1432...   \n",
       "4  RO-D-MIDAS-3-PRL-SAMPLES-V3.0/IMG_1429710_1432...   \n",
       "\n",
       "                                  PARTICLE_MASK_FILE  \\\n",
       "0  RO-D-MIDAS-3-PRL-SAMPLES-V3.0/IMG_1429710_1432...   \n",
       "1  RO-D-MIDAS-3-PRL-SAMPLES-V3.0/IMG_1429710_1432...   \n",
       "2  RO-D-MIDAS-3-PRL-SAMPLES-V3.0/IMG_1429710_1432...   \n",
       "3  RO-D-MIDAS-3-PRL-SAMPLES-V3.0/IMG_1429710_1432...   \n",
       "4  RO-D-MIDAS-3-PRL-SAMPLES-V3.0/IMG_1429710_1432...   \n",
       "\n",
       "                                       PRE_SCAN_FILE  PRE_SCAN_FLAG  \\\n",
       "0  RO-D-MIDAS-3-PRL-SAMPLES-V3.0/IMG_1429710_1432...              2   \n",
       "1  RO-D-MIDAS-3-PRL-SAMPLES-V3.0/IMG_1429710_1432...              2   \n",
       "2  RO-D-MIDAS-3-PRL-SAMPLES-V3.0/IMG_1429710_1432...              2   \n",
       "3  RO-D-MIDAS-3-PRL-SAMPLES-V3.0/IMG_1429710_1432...              2   \n",
       "4  RO-D-MIDAS-3-PRL-SAMPLES-V3.0/IMG_1429710_1432...              2   \n",
       "\n",
       "   PARTICLE_FLAG  SCAN_QUALITY_FLAG  MULTIPLE_FRAGMENTS_FLAG  \\\n",
       "0              1                  2                        0   \n",
       "1              1                  3                        0   \n",
       "2              1                  3                        0   \n",
       "3              1                  3                        0   \n",
       "4              1                  3                        0   \n",
       "\n",
       "   TRUST_HEIGHT_FLAG  PHYSICAL_ALTERATION_FLAG  ... X_SCAN_SIZE Y_SCAN_SIZE  \\\n",
       "0                  1                         0  ...        80.3        80.3   \n",
       "1                  2                         0  ...        80.3        80.3   \n",
       "2                  2                         0  ...        80.3        80.3   \n",
       "3                  2                         0  ...        80.3        80.3   \n",
       "4                  2                         0  ...        80.3        80.3   \n",
       "\n",
       "   TIP_NUMBER TARGET_NUMBER LAST_TIP_IMAGE_START  ARCHIVE_FILE_LAST_TIP_IMAGE  \\\n",
       "0           5            10                                                     \n",
       "1           5            10                                                     \n",
       "2           5            10                                                     \n",
       "3           5            10                                                     \n",
       "4           5            10                                                     \n",
       "\n",
       "   BOUNDING_BOX_ROW_MIN  BOUNDING_BOX_ROW_MAX  BOUNDING_BOX_COL_MIN  \\\n",
       "0                     0                     6                    27   \n",
       "1                    14                    18                     0   \n",
       "2                    10                    30                    26   \n",
       "3                    31                    36                   153   \n",
       "4                    31                    36                     0   \n",
       "\n",
       "   BOUNDING_BOX_COL_MAX  \n",
       "0                    32  \n",
       "1                     6  \n",
       "2                   186  \n",
       "3                   164  \n",
       "4                    26  \n",
       "\n",
       "[5 rows x 36 columns]"
      ]
     },
     "execution_count": 39,
     "metadata": {},
     "output_type": "execute_result"
    }
   ],
   "source": [
    "catalogue.head()"
   ]
  },
  {
   "cell_type": "code",
   "execution_count": 40,
   "metadata": {},
   "outputs": [
    {
     "data": {
      "text/plain": [
       "Index(['PARTICLE_ID', 'PARTICLE_SCAN_FILE', 'PARTICLE_MASK_FILE',\n",
       "       'PRE_SCAN_FILE', 'PRE_SCAN_FLAG', 'PARTICLE_FLAG', 'SCAN_QUALITY_FLAG',\n",
       "       'MULTIPLE_FRAGMENTS_FLAG', 'TRUST_HEIGHT_FLAG',\n",
       "       'PHYSICAL_ALTERATION_FLAG', 'LINKED_PARTICLE_ID',\n",
       "       'LINKED_PARTICLE_SCAN', 'LINKED_PARTICLE_FLAG', 'MASTER_PARTICLE_ID',\n",
       "       'MASTER_PARTICLE_SCAN', 'AREA_PIXEL', 'AREA_UM', 'Z_MIN_VALUE',\n",
       "       'Z_MAX_VALUE', 'Z_MEAN_VALUE', 'PARTICLE_HEIGHT', 'PARTICLE_STD_DEV',\n",
       "       'X_STEP_SIZE', 'Y_STEP_SIZE', 'X_SCAN_ORIGIN', 'Y_SCAN_ORIGIN',\n",
       "       'X_SCAN_SIZE', 'Y_SCAN_SIZE', 'TIP_NUMBER', 'TARGET_NUMBER',\n",
       "       'LAST_TIP_IMAGE_START', 'ARCHIVE_FILE_LAST_TIP_IMAGE',\n",
       "       'BOUNDING_BOX_ROW_MIN', 'BOUNDING_BOX_ROW_MAX', 'BOUNDING_BOX_COL_MIN',\n",
       "       'BOUNDING_BOX_COL_MAX'],\n",
       "      dtype='object')"
      ]
     },
     "execution_count": 40,
     "metadata": {},
     "output_type": "execute_result"
    }
   ],
   "source": [
    "catalogue.columns"
   ]
  },
  {
   "cell_type": "markdown",
   "metadata": {},
   "source": [
    "OK, let's find the largest (area) particles in the catalogue:"
   ]
  },
  {
   "cell_type": "code",
   "execution_count": 41,
   "metadata": {},
   "outputs": [
    {
     "data": {
      "text/html": [
       "<div>\n",
       "<style scoped>\n",
       "    .dataframe tbody tr th:only-of-type {\n",
       "        vertical-align: middle;\n",
       "    }\n",
       "\n",
       "    .dataframe tbody tr th {\n",
       "        vertical-align: top;\n",
       "    }\n",
       "\n",
       "    .dataframe thead th {\n",
       "        text-align: right;\n",
       "    }\n",
       "</style>\n",
       "<table border=\"1\" class=\"dataframe\">\n",
       "  <thead>\n",
       "    <tr style=\"text-align: right;\">\n",
       "      <th></th>\n",
       "      <th>PARTICLE_SCAN_FILE</th>\n",
       "      <th>AREA_UM</th>\n",
       "    </tr>\n",
       "  </thead>\n",
       "  <tbody>\n",
       "    <tr>\n",
       "      <th>660</th>\n",
       "      <td>RO-C-MIDAS-3-EXT2-SAMPLES-V3.0/IMG_1612423_161...</td>\n",
       "      <td>4473.801</td>\n",
       "    </tr>\n",
       "    <tr>\n",
       "      <th>664</th>\n",
       "      <td>RO-C-MIDAS-3-EXT2-SAMPLES-V3.0/IMG_1612423_161...</td>\n",
       "      <td>2151.731</td>\n",
       "    </tr>\n",
       "    <tr>\n",
       "      <th>1037</th>\n",
       "      <td>RO-C-MIDAS-3-EXT2-SAMPLES-V3.0/IMG_1615223_161...</td>\n",
       "      <td>2116.979</td>\n",
       "    </tr>\n",
       "    <tr>\n",
       "      <th>656</th>\n",
       "      <td>RO-C-MIDAS-3-EXT2-SAMPLES-V3.0/IMG_1612423_161...</td>\n",
       "      <td>1853.348</td>\n",
       "    </tr>\n",
       "    <tr>\n",
       "      <th>601</th>\n",
       "      <td>RO-C-MIDAS-3-EXT2-SAMPLES-V3.0/IMG_1609623_161...</td>\n",
       "      <td>1721.125</td>\n",
       "    </tr>\n",
       "  </tbody>\n",
       "</table>\n",
       "</div>"
      ],
      "text/plain": [
       "                                     PARTICLE_SCAN_FILE   AREA_UM\n",
       "660   RO-C-MIDAS-3-EXT2-SAMPLES-V3.0/IMG_1612423_161...  4473.801\n",
       "664   RO-C-MIDAS-3-EXT2-SAMPLES-V3.0/IMG_1612423_161...  2151.731\n",
       "1037  RO-C-MIDAS-3-EXT2-SAMPLES-V3.0/IMG_1615223_161...  2116.979\n",
       "656   RO-C-MIDAS-3-EXT2-SAMPLES-V3.0/IMG_1612423_161...  1853.348\n",
       "601   RO-C-MIDAS-3-EXT2-SAMPLES-V3.0/IMG_1609623_161...  1721.125"
      ]
     },
     "execution_count": 41,
     "metadata": {},
     "output_type": "execute_result"
    }
   ],
   "source": [
    "catalogue.sort_values(by='AREA_UM', ascending=False)[['PARTICLE_SCAN_FILE', 'AREA_UM']].head(5)"
   ]
  },
  {
   "cell_type": "markdown",
   "metadata": {},
   "source": [
    "Let's see if we can retrieve the scan of the largest particle    "
   ]
  },
  {
   "cell_type": "code",
   "execution_count": 42,
   "metadata": {},
   "outputs": [
    {
     "data": {
      "text/plain": [
       "'RO-C-MIDAS-3-EXT2-SAMPLES-V3.0/IMG_1612423_1615300_019_ZS'"
      ]
     },
     "execution_count": 42,
     "metadata": {},
     "output_type": "execute_result"
    }
   ],
   "source": [
    "largest = catalogue.sort_values(by='AREA_UM', ascending=False)['PARTICLE_SCAN_FILE'].iloc[0]\n",
    "largest"
   ]
  },
  {
   "cell_type": "markdown",
   "metadata": {},
   "source": [
    "We need to convert the dataset and product ID from the catalogue into the granule UID  used in EPN-TAP:"
   ]
  },
  {
   "cell_type": "code",
   "execution_count": 43,
   "metadata": {},
   "outputs": [
    {
     "data": {
      "text/plain": [
       "'RO-C-MIDAS-3-EXT2-SAMPLES-V3.0:DATA:IMG_1612423_1615300_019_ZS'"
      ]
     },
     "execution_count": 43,
     "metadata": {},
     "output_type": "execute_result"
    }
   ],
   "source": [
    "largest_uid = largest.split('/')[0] + ':DATA:' + largest.split('/')[1]\n",
    "largest_uid"
   ]
  },
  {
   "cell_type": "code",
   "execution_count": 44,
   "metadata": {},
   "outputs": [],
   "source": [
    "query = \"SELECT * FROM epn_core WHERE granule_uid='%s'\" % largest_uid\n",
    "data = psa.launch_job(query).get_data()"
   ]
  },
  {
   "cell_type": "markdown",
   "metadata": {},
   "source": [
    "Now let's look at the browse product for this:"
   ]
  },
  {
   "cell_type": "code",
   "execution_count": 45,
   "metadata": {},
   "outputs": [],
   "source": [
    "thumbnail_url = data['thumbnail_url'].data[0].decode('utf-8')"
   ]
  },
  {
   "cell_type": "code",
   "execution_count": 46,
   "metadata": {},
   "outputs": [
    {
     "data": {
      "text/html": [
       "<img src=\"https://archives.esac.esa.int/psa/pdap/fileaccess?ID=INTERNATIONALsROSETTAsMISSION/RO-C-MIDAS-3-EXT2-SAMPLES-V3.0/BROWSE/PRV_1612423_1615300_019_ZS.JPG\"/>"
      ],
      "text/plain": [
       "<IPython.core.display.Image object>"
      ]
     },
     "execution_count": 46,
     "metadata": {},
     "output_type": "execute_result"
    }
   ],
   "source": [
    "Image(url=thumbnail_url)"
   ]
  },
  {
   "cell_type": "code",
   "execution_count": null,
   "metadata": {},
   "outputs": [],
   "source": []
  }
 ],
 "metadata": {
  "kernelspec": {
   "display_name": "psa",
   "language": "python",
   "name": "psa"
  },
  "language_info": {
   "codemirror_mode": {
    "name": "ipython",
    "version": 3
   },
   "file_extension": ".py",
   "mimetype": "text/x-python",
   "name": "python",
   "nbconvert_exporter": "python",
   "pygments_lexer": "ipython3",
   "version": "3.6.8"
  },
  "toc": {
   "nav_menu": {},
   "number_sections": true,
   "sideBar": true,
   "skip_h1_title": false,
   "toc_cell": false,
   "toc_position": {},
   "toc_section_display": "block",
   "toc_window_display": true
  }
 },
 "nbformat": 4,
 "nbformat_minor": 2
}
